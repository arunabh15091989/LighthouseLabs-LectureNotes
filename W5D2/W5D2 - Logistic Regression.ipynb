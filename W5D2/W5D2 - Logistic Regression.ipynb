{
 "cells": [
  {
   "cell_type": "markdown",
   "metadata": {},
   "source": [
    "## Logistic Regression - What is it and Why do we need it?\n"
   ]
  },
  {
   "cell_type": "markdown",
   "metadata": {},
   "source": [
    "1. Special use case of linear classifier\n",
    "2. It outputs Probability of data point belonging to class\n",
    "3. It can classify data into 2 classes\n",
    "4. If we get a specific threshold, then it is class1 otherwise for another threshold it is class2"
   ]
  },
  {
   "cell_type": "markdown",
   "metadata": {},
   "source": [
    "### Let us understand piece by piece as to how it works ?"
   ]
  },
  {
   "cell_type": "markdown",
   "metadata": {},
   "source": [
    "### Coefficients(Weights)\n",
    "<img src = './Xvalues.jpg'>\n",
    "<img src = './datarow.jpg'>\n",
    "<img src = './betacoefficients.jpg'>\n",
    "<img src = './hypothesisfunclinreg.jpg'>"
   ]
  },
  {
   "cell_type": "markdown",
   "metadata": {},
   "source": [
    "#### Our H(x) becomes Z and this becomes an input to our Sigmoid Function\n",
    "<img src = './Z1.jpg'>\n",
    "<img src = './z.jpg'>"
   ]
  },
  {
   "cell_type": "markdown",
   "metadata": {},
   "source": [
    " ### Sigmoid Function\n",
    " 1. Sigmoid Function has a property of converting whats passed into it to a value between 0 and 1\n",
    " 2. If value is above a threshold it is 1\n",
    " 3. if value is below a threshold, it is 0\n",
    " 4. threshold is generally 0.5\n",
    " \n",
    " <img src='./logmodel.jpg'>\n",
    " <img src = './sigmoidfunc.jpg'>"
   ]
  },
  {
   "cell_type": "markdown",
   "metadata": {},
   "source": [
    "#### The Sigmoid Magic\n",
    "1. The sigmoid function is magical in the sense it restricts the output between 0 and 1\n",
    "2. THe output is a probability of function belonging to class 1\n",
    "3. This means if our output from sigmoid>0.5, we predict class 1 else 0"
   ]
  },
  {
   "cell_type": "markdown",
   "metadata": {},
   "source": [
    "#### Great so we found a way to convert our linear regression h(x) to a classification function by passing it through a sigmoid function as below\n",
    "<img src = './sigmoidz.jpg'>"
   ]
  },
  {
   "cell_type": "markdown",
   "metadata": {},
   "source": [
    "### Now what?\n",
    "When we use above function and try to optimize weights beta1,beta2(also W1,W2..) etc to predict class we have a classification model"
   ]
  },
  {
   "cell_type": "markdown",
   "metadata": {},
   "source": [
    "### We have new model function/hypothesis function/H(x) as below\n",
    "<img src = './logisticcostfunction.jpg'>"
   ]
  },
  {
   "cell_type": "markdown",
   "metadata": {},
   "source": [
    "### H(X) predicts values for us what do we do next??\n",
    "### We try to create a cost function to find optimized weights for H(X)"
   ]
  },
  {
   "cell_type": "markdown",
   "metadata": {},
   "source": [
    "### Let us first define cost function\n",
    "<!-- <img src = './hxlog.jpg'>\n",
    "<img src = './costfunc.jpg'> -->\n",
    "<img src='logreg-costfunc.jpg'>"
   ]
  },
  {
   "cell_type": "markdown",
   "metadata": {},
   "source": [
    "#### Cost Function Final\n",
    "<img src = './logisticcostfunctionfinal.jpg'>"
   ]
  },
  {
   "cell_type": "markdown",
   "metadata": {},
   "source": [
    "### Now we perform Gradient Descent to find lowest point of cost function. In doing so the weights we get are the weights for correctly classifying the data\n",
    "<img src = './gd.jpg'>\n",
    "<img src = './gdmountain.jpg'>"
   ]
  },
  {
   "cell_type": "markdown",
   "metadata": {},
   "source": [
    "### Finally with the right weights we get an equation for line like below which correctly sperates our data\n",
    "<img src = './decboundary.jpg'>"
   ]
  },
  {
   "cell_type": "markdown",
   "metadata": {},
   "source": [
    "### Interpreting Results from Logistic Regression Model"
   ]
  },
  {
   "cell_type": "code",
   "execution_count": 1,
   "metadata": {},
   "outputs": [],
   "source": [
    "#import pandas\n",
    "import pandas as pd\n",
    "col_names = ['pregnant', 'glucose', 'bp', 'skin', 'insulin', 'bmi', 'pedigree', 'age', 'label']\n",
    "# load dataset\n",
    "pima = pd.read_csv(\"pima-indians-diabetes.csv\", header=None, names=col_names)"
   ]
  },
  {
   "cell_type": "code",
   "execution_count": 2,
   "metadata": {},
   "outputs": [
    {
     "data": {
      "text/html": [
       "<div>\n",
       "<style scoped>\n",
       "    .dataframe tbody tr th:only-of-type {\n",
       "        vertical-align: middle;\n",
       "    }\n",
       "\n",
       "    .dataframe tbody tr th {\n",
       "        vertical-align: top;\n",
       "    }\n",
       "\n",
       "    .dataframe thead th {\n",
       "        text-align: right;\n",
       "    }\n",
       "</style>\n",
       "<table border=\"1\" class=\"dataframe\">\n",
       "  <thead>\n",
       "    <tr style=\"text-align: right;\">\n",
       "      <th></th>\n",
       "      <th>pregnant</th>\n",
       "      <th>glucose</th>\n",
       "      <th>bp</th>\n",
       "      <th>skin</th>\n",
       "      <th>insulin</th>\n",
       "      <th>bmi</th>\n",
       "      <th>pedigree</th>\n",
       "      <th>age</th>\n",
       "      <th>label</th>\n",
       "    </tr>\n",
       "  </thead>\n",
       "  <tbody>\n",
       "    <tr>\n",
       "      <th>0</th>\n",
       "      <td>6</td>\n",
       "      <td>148</td>\n",
       "      <td>72</td>\n",
       "      <td>35</td>\n",
       "      <td>0</td>\n",
       "      <td>33.6</td>\n",
       "      <td>0.627</td>\n",
       "      <td>50</td>\n",
       "      <td>1</td>\n",
       "    </tr>\n",
       "    <tr>\n",
       "      <th>1</th>\n",
       "      <td>1</td>\n",
       "      <td>85</td>\n",
       "      <td>66</td>\n",
       "      <td>29</td>\n",
       "      <td>0</td>\n",
       "      <td>26.6</td>\n",
       "      <td>0.351</td>\n",
       "      <td>31</td>\n",
       "      <td>0</td>\n",
       "    </tr>\n",
       "    <tr>\n",
       "      <th>2</th>\n",
       "      <td>8</td>\n",
       "      <td>183</td>\n",
       "      <td>64</td>\n",
       "      <td>0</td>\n",
       "      <td>0</td>\n",
       "      <td>23.3</td>\n",
       "      <td>0.672</td>\n",
       "      <td>32</td>\n",
       "      <td>1</td>\n",
       "    </tr>\n",
       "    <tr>\n",
       "      <th>3</th>\n",
       "      <td>1</td>\n",
       "      <td>89</td>\n",
       "      <td>66</td>\n",
       "      <td>23</td>\n",
       "      <td>94</td>\n",
       "      <td>28.1</td>\n",
       "      <td>0.167</td>\n",
       "      <td>21</td>\n",
       "      <td>0</td>\n",
       "    </tr>\n",
       "    <tr>\n",
       "      <th>4</th>\n",
       "      <td>0</td>\n",
       "      <td>137</td>\n",
       "      <td>40</td>\n",
       "      <td>35</td>\n",
       "      <td>168</td>\n",
       "      <td>43.1</td>\n",
       "      <td>2.288</td>\n",
       "      <td>33</td>\n",
       "      <td>1</td>\n",
       "    </tr>\n",
       "    <tr>\n",
       "      <th>...</th>\n",
       "      <td>...</td>\n",
       "      <td>...</td>\n",
       "      <td>...</td>\n",
       "      <td>...</td>\n",
       "      <td>...</td>\n",
       "      <td>...</td>\n",
       "      <td>...</td>\n",
       "      <td>...</td>\n",
       "      <td>...</td>\n",
       "    </tr>\n",
       "    <tr>\n",
       "      <th>763</th>\n",
       "      <td>10</td>\n",
       "      <td>101</td>\n",
       "      <td>76</td>\n",
       "      <td>48</td>\n",
       "      <td>180</td>\n",
       "      <td>32.9</td>\n",
       "      <td>0.171</td>\n",
       "      <td>63</td>\n",
       "      <td>0</td>\n",
       "    </tr>\n",
       "    <tr>\n",
       "      <th>764</th>\n",
       "      <td>2</td>\n",
       "      <td>122</td>\n",
       "      <td>70</td>\n",
       "      <td>27</td>\n",
       "      <td>0</td>\n",
       "      <td>36.8</td>\n",
       "      <td>0.340</td>\n",
       "      <td>27</td>\n",
       "      <td>0</td>\n",
       "    </tr>\n",
       "    <tr>\n",
       "      <th>765</th>\n",
       "      <td>5</td>\n",
       "      <td>121</td>\n",
       "      <td>72</td>\n",
       "      <td>23</td>\n",
       "      <td>112</td>\n",
       "      <td>26.2</td>\n",
       "      <td>0.245</td>\n",
       "      <td>30</td>\n",
       "      <td>0</td>\n",
       "    </tr>\n",
       "    <tr>\n",
       "      <th>766</th>\n",
       "      <td>1</td>\n",
       "      <td>126</td>\n",
       "      <td>60</td>\n",
       "      <td>0</td>\n",
       "      <td>0</td>\n",
       "      <td>30.1</td>\n",
       "      <td>0.349</td>\n",
       "      <td>47</td>\n",
       "      <td>1</td>\n",
       "    </tr>\n",
       "    <tr>\n",
       "      <th>767</th>\n",
       "      <td>1</td>\n",
       "      <td>93</td>\n",
       "      <td>70</td>\n",
       "      <td>31</td>\n",
       "      <td>0</td>\n",
       "      <td>30.4</td>\n",
       "      <td>0.315</td>\n",
       "      <td>23</td>\n",
       "      <td>0</td>\n",
       "    </tr>\n",
       "  </tbody>\n",
       "</table>\n",
       "<p>768 rows × 9 columns</p>\n",
       "</div>"
      ],
      "text/plain": [
       "     pregnant  glucose  bp  skin  insulin   bmi  pedigree  age  label\n",
       "0           6      148  72    35        0  33.6     0.627   50      1\n",
       "1           1       85  66    29        0  26.6     0.351   31      0\n",
       "2           8      183  64     0        0  23.3     0.672   32      1\n",
       "3           1       89  66    23       94  28.1     0.167   21      0\n",
       "4           0      137  40    35      168  43.1     2.288   33      1\n",
       "..        ...      ...  ..   ...      ...   ...       ...  ...    ...\n",
       "763        10      101  76    48      180  32.9     0.171   63      0\n",
       "764         2      122  70    27        0  36.8     0.340   27      0\n",
       "765         5      121  72    23      112  26.2     0.245   30      0\n",
       "766         1      126  60     0        0  30.1     0.349   47      1\n",
       "767         1       93  70    31        0  30.4     0.315   23      0\n",
       "\n",
       "[768 rows x 9 columns]"
      ]
     },
     "execution_count": 2,
     "metadata": {},
     "output_type": "execute_result"
    }
   ],
   "source": [
    "pima"
   ]
  },
  {
   "cell_type": "code",
   "execution_count": 3,
   "metadata": {},
   "outputs": [],
   "source": [
    "#split dataset in features and target variable\n",
    "feature_cols = ['pregnant', 'insulin', 'bmi', 'age','glucose','bp','pedigree']\n",
    "X = pima[feature_cols] # Features\n",
    "y = pima.label # Target variable"
   ]
  },
  {
   "cell_type": "code",
   "execution_count": 4,
   "metadata": {},
   "outputs": [],
   "source": [
    "# split X and y into training and testing sets\n",
    "from sklearn.model_selection import train_test_split\n",
    "X_train,X_test,y_train,y_test=train_test_split(X,y,test_size=0.25,random_state=0,stratify=y)"
   ]
  },
  {
   "cell_type": "code",
   "execution_count": 5,
   "metadata": {},
   "outputs": [
    {
     "name": "stderr",
     "output_type": "stream",
     "text": [
      "C:\\Users\\Arunabh\\miniconda3\\envs\\tensorflow\\lib\\site-packages\\sklearn\\linear_model\\_logistic.py:764: ConvergenceWarning: lbfgs failed to converge (status=1):\n",
      "STOP: TOTAL NO. of ITERATIONS REACHED LIMIT.\n",
      "\n",
      "Increase the number of iterations (max_iter) or scale the data as shown in:\n",
      "    https://scikit-learn.org/stable/modules/preprocessing.html\n",
      "Please also refer to the documentation for alternative solver options:\n",
      "    https://scikit-learn.org/stable/modules/linear_model.html#logistic-regression\n",
      "  extra_warning_msg=_LOGISTIC_SOLVER_CONVERGENCE_MSG)\n"
     ]
    }
   ],
   "source": [
    "# import the class\n",
    "from sklearn.linear_model import LogisticRegression\n",
    "\n",
    "# instantiate the model (using the default parameters)\n",
    "logreg = LogisticRegression()\n",
    "\n",
    "# fit the model with data\n",
    "logreg.fit(X_train,y_train)\n",
    "\n",
    "#\n",
    "y_pred=logreg.predict(X_test)"
   ]
  },
  {
   "cell_type": "code",
   "execution_count": 6,
   "metadata": {},
   "outputs": [
    {
     "data": {
      "text/plain": [
       "array([[110,  15],\n",
       "       [ 27,  40]], dtype=int64)"
      ]
     },
     "execution_count": 6,
     "metadata": {},
     "output_type": "execute_result"
    }
   ],
   "source": [
    "# import the metrics class\n",
    "from sklearn import metrics\n",
    "cnf_matrix = metrics.confusion_matrix(y_test, y_pred)\n",
    "cnf_matrix"
   ]
  },
  {
   "cell_type": "code",
   "execution_count": 7,
   "metadata": {},
   "outputs": [
    {
     "data": {
      "text/plain": [
       "125"
      ]
     },
     "execution_count": 7,
     "metadata": {},
     "output_type": "execute_result"
    }
   ],
   "source": [
    "len(y_test[y_test==0])"
   ]
  },
  {
   "cell_type": "code",
   "execution_count": 8,
   "metadata": {},
   "outputs": [
    {
     "data": {
      "text/plain": [
       "67"
      ]
     },
     "execution_count": 8,
     "metadata": {},
     "output_type": "execute_result"
    }
   ],
   "source": [
    "len(y_test[y_test==1])"
   ]
  },
  {
   "cell_type": "code",
   "execution_count": 9,
   "metadata": {},
   "outputs": [],
   "source": [
    "# import required modules\n",
    "import numpy as np\n",
    "import matplotlib.pyplot as plt\n",
    "import seaborn as sns\n",
    "%matplotlib inline"
   ]
  },
  {
   "cell_type": "code",
   "execution_count": 10,
   "metadata": {},
   "outputs": [
    {
     "data": {
      "text/plain": [
       "Text(0.5, 257.44, 'Predicted label')"
      ]
     },
     "execution_count": 10,
     "metadata": {},
     "output_type": "execute_result"
    },
    {
     "data": {
      "image/png": "[encoded data removed]",
      "text/plain": [
       "<Figure size 432x288 with 2 Axes>"
      ]
     },
     "metadata": {
      "needs_background": "light"
     },
     "output_type": "display_data"
    }
   ],
   "source": [
    "class_names=[0,1] # name  of classes\n",
    "fig, ax = plt.subplots()\n",
    "tick_marks = np.arange(len(class_names))\n",
    "plt.xticks(tick_marks, class_names)\n",
    "plt.yticks(tick_marks, class_names)\n",
    "# create heatmap\n",
    "sns.heatmap(pd.DataFrame(cnf_matrix), annot=True, cmap=\"YlGnBu\" ,fmt='g')\n",
    "ax.xaxis.set_label_position(\"top\")\n",
    "plt.tight_layout()\n",
    "plt.title('Confusion matrix', y=1.1)\n",
    "plt.ylabel('Actual label')\n",
    "plt.xlabel('Predicted label')"
   ]
  },
  {
   "cell_type": "markdown",
   "metadata": {},
   "source": [
    "<img src = './precisionrecall.jpg'>\n",
    "<img src = './precisionrecall1.jpg'>"
   ]
  },
  {
   "cell_type": "code",
   "execution_count": 11,
   "metadata": {},
   "outputs": [
    {
     "name": "stdout",
     "output_type": "stream",
     "text": [
      "Accuracy: 0.78125\n",
      "Precision: 0.7272727272727273\n",
      "Recall: 0.5970149253731343\n"
     ]
    }
   ],
   "source": [
    "print(\"Accuracy:\",metrics.accuracy_score(y_test, y_pred))\n",
    "print(\"Precision:\",metrics.precision_score(y_test, y_pred))\n",
    "print(\"Recall:\",metrics.recall_score(y_test, y_pred))"
   ]
  },
  {
   "cell_type": "markdown",
   "metadata": {},
   "source": [
    "#### Coefficients of LogReg"
   ]
  },
  {
   "cell_type": "code",
   "execution_count": 12,
   "metadata": {},
   "outputs": [
    {
     "data": {
      "text/html": [
       "<div>\n",
       "<style scoped>\n",
       "    .dataframe tbody tr th:only-of-type {\n",
       "        vertical-align: middle;\n",
       "    }\n",
       "\n",
       "    .dataframe tbody tr th {\n",
       "        vertical-align: top;\n",
       "    }\n",
       "\n",
       "    .dataframe thead th {\n",
       "        text-align: right;\n",
       "    }\n",
       "</style>\n",
       "<table border=\"1\" class=\"dataframe\">\n",
       "  <thead>\n",
       "    <tr style=\"text-align: right;\">\n",
       "      <th></th>\n",
       "      <th>pregnant</th>\n",
       "      <th>insulin</th>\n",
       "      <th>bmi</th>\n",
       "      <th>age</th>\n",
       "      <th>glucose</th>\n",
       "      <th>bp</th>\n",
       "      <th>pedigree</th>\n",
       "    </tr>\n",
       "  </thead>\n",
       "  <tbody>\n",
       "    <tr>\n",
       "      <th>0</th>\n",
       "      <td>0.119664</td>\n",
       "      <td>-0.000221</td>\n",
       "      <td>0.084102</td>\n",
       "      <td>0.020352</td>\n",
       "      <td>0.031541</td>\n",
       "      <td>-0.011353</td>\n",
       "      <td>0.834544</td>\n",
       "    </tr>\n",
       "  </tbody>\n",
       "</table>\n",
       "</div>"
      ],
      "text/plain": [
       "   pregnant   insulin       bmi       age   glucose        bp  pedigree\n",
       "0  0.119664 -0.000221  0.084102  0.020352  0.031541 -0.011353  0.834544"
      ]
     },
     "execution_count": 12,
     "metadata": {},
     "output_type": "execute_result"
    }
   ],
   "source": [
    "pd.DataFrame(logreg.coef_,columns= X.columns)"
   ]
  },
  {
   "cell_type": "markdown",
   "metadata": {},
   "source": [
    "### GLM\n",
    "Generalized linear model (GLM) is a generalization of ordinary linear regression that allows for response variables that have error distribution models other than a normal distribution like Gaussian distribution.\n"
   ]
  },
  {
   "cell_type": "markdown",
   "metadata": {},
   "source": [
    "#### Since Logistic Regression has class 1s and 0s it is a binomial distribution and not a Normal Distribution\n",
    "<img src = './logisticglm.jpg'>"
   ]
  },
  {
   "cell_type": "markdown",
   "metadata": {},
   "source": [
    "### GLM's use a link function to connect the linear model to a model that predicts for non normal distribution. our link function was Sigmoid Function"
   ]
  },
  {
   "cell_type": "markdown",
   "metadata": {},
   "source": [
    "### Let's see how GLM works on our dataset"
   ]
  },
  {
   "cell_type": "code",
   "execution_count": 37,
   "metadata": {},
   "outputs": [
    {
     "name": "stdout",
     "output_type": "stream",
     "text": [
      "Requirement already satisfied: statsmodels in c:\\users\\arunabh\\miniconda3\\envs\\tensorflow\\lib\\site-packages (0.11.1)\n",
      "Requirement already satisfied: numpy>=1.14 in c:\\users\\arunabh\\miniconda3\\envs\\tensorflow\\lib\\site-packages (from statsmodels) (1.18.5)\n",
      "Requirement already satisfied: patsy>=0.5 in c:\\users\\arunabh\\miniconda3\\envs\\tensorflow\\lib\\site-packages (from statsmodels) (0.5.1)\n",
      "Requirement already satisfied: pandas>=0.21 in c:\\users\\arunabh\\miniconda3\\envs\\tensorflow\\lib\\site-packages (from statsmodels) (1.0.5)\n",
      "Requirement already satisfied: scipy>=1.0 in c:\\users\\arunabh\\miniconda3\\envs\\tensorflow\\lib\\site-packages (from statsmodels) (1.5.0)\n",
      "Requirement already satisfied: six in c:\\users\\arunabh\\miniconda3\\envs\\tensorflow\\lib\\site-packages (from patsy>=0.5->statsmodels) (1.15.0)\n",
      "Requirement already satisfied: python-dateutil>=2.6.1 in c:\\users\\arunabh\\miniconda3\\envs\\tensorflow\\lib\\site-packages (from pandas>=0.21->statsmodels) (2.8.1)\n",
      "Requirement already satisfied: pytz>=2017.2 in c:\\users\\arunabh\\miniconda3\\envs\\tensorflow\\lib\\site-packages (from pandas>=0.21->statsmodels) (2020.1)\n"
     ]
    }
   ],
   "source": [
    "!pip install statsmodels"
   ]
  },
  {
   "cell_type": "code",
   "execution_count": 15,
   "metadata": {},
   "outputs": [],
   "source": [
    "import statsmodels.api as sm\n",
    "import statsmodels.formula.api as smf"
   ]
  },
  {
   "cell_type": "code",
   "execution_count": 16,
   "metadata": {},
   "outputs": [],
   "source": [
    "formula = 'label ~ pregnant +glucose + bp + skin + insulin + bmi + pedigree + age'"
   ]
  },
  {
   "cell_type": "code",
   "execution_count": 17,
   "metadata": {},
   "outputs": [
    {
     "name": "stdout",
     "output_type": "stream",
     "text": [
      "                 Generalized Linear Model Regression Results                  \n",
      "==============================================================================\n",
      "Dep. Variable:                  label   No. Observations:                  768\n",
      "Model:                            GLM   Df Residuals:                      759\n",
      "Model Family:                Binomial   Df Model:                            8\n",
      "Link Function:                  logit   Scale:                          1.0000\n",
      "Method:                          IRLS   Log-Likelihood:                -361.72\n",
      "Date:                Tue, 02 Feb 2021   Deviance:                       723.45\n",
      "Time:                        11:04:17   Pearson chi2:                     836.\n",
      "No. Iterations:                     5                                         \n",
      "Covariance Type:            nonrobust                                         \n",
      "==============================================================================\n",
      "                 coef    std err          z      P>|z|      [0.025      0.975]\n",
      "------------------------------------------------------------------------------\n",
      "Intercept     -8.4047      0.717    -11.728      0.000      -9.809      -7.000\n",
      "pregnant       0.1232      0.032      3.840      0.000       0.060       0.186\n",
      "glucose        0.0352      0.004      9.481      0.000       0.028       0.042\n",
      "bp            -0.0133      0.005     -2.540      0.011      -0.024      -0.003\n",
      "skin           0.0006      0.007      0.090      0.929      -0.013       0.014\n",
      "insulin       -0.0012      0.001     -1.322      0.186      -0.003       0.001\n",
      "bmi            0.0897      0.015      5.945      0.000       0.060       0.119\n",
      "pedigree       0.9452      0.299      3.160      0.002       0.359       1.531\n",
      "age            0.0149      0.009      1.593      0.111      -0.003       0.033\n",
      "==============================================================================\n"
     ]
    }
   ],
   "source": [
    "model = smf.glm(formula = formula, data=pima, family=sm.families.Binomial())\n",
    "result = model.fit()\n",
    "print(result.summary())"
   ]
  },
  {
   "cell_type": "code",
   "execution_count": 18,
   "metadata": {},
   "outputs": [
    {
     "name": "stdout",
     "output_type": "stream",
     "text": [
      "Intercept   -8.404696\n",
      "pregnant     0.123182\n",
      "glucose      0.035164\n",
      "bp          -0.013296\n",
      "skin         0.000619\n",
      "insulin     -0.001192\n",
      "bmi          0.089701\n",
      "pedigree     0.945180\n",
      "age          0.014869\n",
      "dtype: float64\n",
      "\n",
      "p-Values\n",
      "Intercept    9.161142e-32\n",
      "pregnant     1.229640e-04\n",
      "glucose      2.509097e-21\n",
      "bp           1.107207e-02\n",
      "skin         9.285152e-01\n",
      "insulin      1.860652e-01\n",
      "bmi          2.758937e-09\n",
      "pedigree     1.579978e-03\n",
      "age          1.111920e-01\n",
      "dtype: float64\n",
      "\n",
      "Dependent variables\n",
      "label\n"
     ]
    }
   ],
   "source": [
    "print(result.params)\n",
    "print()\n",
    "print(\"p-Values\")\n",
    "print(result.pvalues)\n",
    "print()\n",
    "print(\"Dependent variables\")\n",
    "print(result.model.endog_names)"
   ]
  },
  {
   "cell_type": "markdown",
   "metadata": {},
   "source": [
    "### Poisson Regression Example\n",
    "[source: 'https://github.com/kidaufo/StatisticalModeling' ]"
   ]
  },
  {
   "cell_type": "code",
   "execution_count": 19,
   "metadata": {},
   "outputs": [
    {
     "name": "stderr",
     "output_type": "stream",
     "text": [
      "C:\\Users\\Arunabh\\miniconda3\\envs\\tensorflow\\lib\\site-packages\\ipykernel_launcher.py:19: DeprecationWarning: Calling Family(..) with a link class as argument is deprecated.\n",
      "Use an instance of a link class instead.\n"
     ]
    },
    {
     "data": {
      "text/plain": [
       "Text(0, 0.5, 'Y')"
      ]
     },
     "execution_count": 19,
     "metadata": {},
     "output_type": "execute_result"
    },
    {
     "data": {
      "image/png": "[encoded data removed]",
      "text/plain": [
       "<Figure size 432x288 with 1 Axes>"
      ]
     },
     "metadata": {
      "needs_background": "light"
     },
     "output_type": "display_data"
    }
   ],
   "source": [
    "import numpy as np\n",
    "from numpy.random import uniform, normal, poisson, binomial\n",
    "import matplotlib.pyplot as plt\n",
    "import statsmodels.api as sm\n",
    "%matplotlib inline\n",
    "\n",
    "np.random.seed(5)\n",
    "n_sample = 100\n",
    "a = 0.6\n",
    "b = -0.4\n",
    "\n",
    "x = uniform(1, 5, size=n_sample)\n",
    "mu = np.exp(a * x + b)\n",
    "y = poisson(mu)\n",
    "\n",
    "exog, endog = sm.add_constant(x), y\n",
    "\n",
    "\n",
    "mod = sm.GLM(endog, exog, family=sm.families.Poisson(link=sm.families.links.log))\n",
    "res = mod.fit()\n",
    "\n",
    "y_pred = res.predict(exog)\n",
    "\n",
    "idx = x.argsort()\n",
    "x_ord, y_pred_ord = x[idx], y_pred[idx]\n",
    "plt.plot(x_ord, y_pred_ord, color='m')\n",
    "plt.scatter(x, y,  s=20, alpha=0.8)\n",
    "plt.xlabel(\"X\")\n",
    "plt.ylabel(\"Y\")"
   ]
  },
  {
   "cell_type": "markdown",
   "metadata": {},
   "source": [
    "### Softmax Regression\n",
    "<img src = './softmax.jpeg'>"
   ]
  },
  {
   "cell_type": "code",
   "execution_count": null,
   "metadata": {},
   "outputs": [],
   "source": []
  }
 ],
 "metadata": {
  "kernelspec": {
   "display_name": "Python 3",
   "language": "python",
   "name": "python3"
  },
  "language_info": {
   "codemirror_mode": {
    "name": "ipython",
    "version": 3
   },
   "file_extension": ".py",
   "mimetype": "text/x-python",
   "name": "python",
   "nbconvert_exporter": "python",
   "pygments_lexer": "ipython3",
   "version": "3.7.9"
  }
 },
 "nbformat": 4,
 "nbformat_minor": 4
}

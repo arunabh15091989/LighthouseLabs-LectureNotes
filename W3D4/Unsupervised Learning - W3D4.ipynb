{
 "cells": [
  {
   "cell_type": "markdown",
   "metadata": {},
   "source": [
    "# What is  Machine Learning - 5 Mins\n",
    "1. ML is a technique where a certain algorithm accepts inputs and predicts a target variable. \n",
    "2. The way this is achieved is by training the algorithm on a sample of dataset\n",
    "3. There is cost function which is monitored as it is moving through the data pooints.\n",
    "4. The algorithm tries to reduce the cost function as much as possible.\n",
    "5. By doing so the algorithm gets closer to predicting correct values\n",
    "\n",
    "<img src=\"./MLTrainingPhase.jpg\">\n",
    "<img src=\"./MLTrainingPhase2.jpg\">\n",
    "<img src=\"./regression vs classification.jpg\">"
   ]
  },
  {
   "cell_type": "code",
   "execution_count": 2,
   "metadata": {},
   "outputs": [
    {
     "data": {
      "text/html": [
       "<video src=\"linear_regression_plot_animation.mp4\" controls  >\n",
       "      Your browser does not support the <code>video</code> element.\n",
       "    </video>"
      ],
      "text/plain": [
       "<IPython.core.display.Video object>"
      ]
     },
     "execution_count": 2,
     "metadata": {},
     "output_type": "execute_result"
    }
   ],
   "source": [
    "from IPython.display import Video\n",
    "\n",
    "Video(\"linear_regression_plot_animation.mp4\")"
   ]
  },
  {
   "cell_type": "markdown",
   "metadata": {},
   "source": [
    "# Unsupervised Learning \n",
    "* The art of drawing inferences from data which does not have <b>labels (target,Y)</b>. \n",
    "* We are not trying to predict a label, we are trying to group data together on some similar attributes."
   ]
  },
  {
   "cell_type": "markdown",
   "metadata": {},
   "source": []
  },
  {
   "cell_type": "markdown",
   "metadata": {},
   "source": [
    "## 1. Clustering\n",
    "* creating groups out of data points based on closeness.\n",
    "* Dividing the data into clusters can be on the basis of centroids, distributions, densities, etc"
   ]
  },
  {
   "cell_type": "markdown",
   "metadata": {},
   "source": [
    "### Clustering Use cases"
   ]
  },
  {
   "cell_type": "markdown",
   "metadata": {},
   "source": [
    "#### 1. Image segmentation\n",
    "<img src=\"./pavel.jpg\">"
   ]
  },
  {
   "cell_type": "markdown",
   "metadata": {},
   "source": [
    "#### 2. Market Segmentation"
   ]
  },
  {
   "cell_type": "markdown",
   "metadata": {},
   "source": []
  },
  {
   "cell_type": "markdown",
   "metadata": {},
   "source": [
    "### How KMeans works - Individual Activity - (5 mins)\n",
    "go to the link and try choosing centroids to see how kmeans works visually:https://www.naftaliharris.com/blog/visualizing-k-means-clustering/\n",
    "\n",
    "Follow-up Question: Was it easy to decide clusters always?"
   ]
  },
  {
   "cell_type": "markdown",
   "metadata": {},
   "source": [
    "### Breakout Room Group Activity 1- (15 minutes)\n",
    "* You will be divided into pairs and will run the code in activity 1 notebook on an image of your choice.\n",
    "* Notebook is provided on slack channel\n",
    "* you have to decide number of clusters to segment the image \n",
    "* what if you use different clusters what is the effect\n",
    "* I will ask one from each group to present the result"
   ]
  },
  {
   "cell_type": "markdown",
   "metadata": {},
   "source": [
    "#### Kmeans algorithm\n",
    "1. decide number of clusters\n",
    "2. select random centroids and iterations\n",
    "3. find closest points\n",
    "4. update centroids\n",
    "5. repeat 3 and 4 till iterations complete\n",
    "\n",
    "<img src=\"./kmeans1.jpg\">\n",
    "\n",
    "\n",
    "The k-medoids algorithm is a clustering approach related to k-means clustering\n",
    "for partitioning a data set into k groups or clusters. In k-medoids clustering,\n",
    "each cluster is represented by one of the data point in the cluster. These points are\n",
    "named cluster medoids.\n",
    "\n",
    "The term medoid refers to an object within a cluster for which average dissimilarity\n",
    "between it and all the other the members of the cluster is minimal. It corresponds to\n",
    "the most centrally located point in the cluster. These objects (one per cluster) can\n",
    "be considered as a representative example of the members of that cluster which may\n",
    "be useful in some situations. Recall that, in k-means clustering, the center of a given\n",
    "cluster is calculated as the mean value of all the data points in the cluster."
   ]
  },
  {
   "cell_type": "markdown",
   "metadata": {},
   "source": [
    "#### What if you cannot plot the data?\n",
    "* The country data below has many variables ( more than 2/3 dimensions)\n",
    "* You cannot decide clusters looking at the data\n",
    "\n",
    "<b>The below tutorial has been adapted from the following kaggle notebook.</b>\n",
    "\n",
    "<b>[source: https://www.kaggle.com/chandrimad31/different-clustering-techniques-country-profiles ]</b>"
   ]
  },
  {
   "cell_type": "code",
   "execution_count": 2,
   "metadata": {},
   "outputs": [],
   "source": [
    "import pandas as pd\n",
    "country_df = pd.read_csv('./Country-data.csv')"
   ]
  },
  {
   "cell_type": "code",
   "execution_count": 3,
   "metadata": {},
   "outputs": [
    {
     "data": {
      "text/html": [
       "<div>\n",
       "<style scoped>\n",
       "    .dataframe tbody tr th:only-of-type {\n",
       "        vertical-align: middle;\n",
       "    }\n",
       "\n",
       "    .dataframe tbody tr th {\n",
       "        vertical-align: top;\n",
       "    }\n",
       "\n",
       "    .dataframe thead th {\n",
       "        text-align: right;\n",
       "    }\n",
       "</style>\n",
       "<table border=\"1\" class=\"dataframe\">\n",
       "  <thead>\n",
       "    <tr style=\"text-align: right;\">\n",
       "      <th></th>\n",
       "      <th>country</th>\n",
       "      <th>child_mort</th>\n",
       "      <th>exports</th>\n",
       "      <th>health</th>\n",
       "      <th>imports</th>\n",
       "      <th>income</th>\n",
       "      <th>inflation</th>\n",
       "      <th>life_expec</th>\n",
       "      <th>total_fer</th>\n",
       "      <th>gdpp</th>\n",
       "    </tr>\n",
       "  </thead>\n",
       "  <tbody>\n",
       "    <tr>\n",
       "      <th>0</th>\n",
       "      <td>Afghanistan</td>\n",
       "      <td>90.2</td>\n",
       "      <td>10.0</td>\n",
       "      <td>7.58</td>\n",
       "      <td>44.9</td>\n",
       "      <td>1610</td>\n",
       "      <td>9.440</td>\n",
       "      <td>56.2</td>\n",
       "      <td>5.82</td>\n",
       "      <td>553</td>\n",
       "    </tr>\n",
       "    <tr>\n",
       "      <th>1</th>\n",
       "      <td>Albania</td>\n",
       "      <td>16.6</td>\n",
       "      <td>28.0</td>\n",
       "      <td>6.55</td>\n",
       "      <td>48.6</td>\n",
       "      <td>9930</td>\n",
       "      <td>4.490</td>\n",
       "      <td>76.3</td>\n",
       "      <td>1.65</td>\n",
       "      <td>4090</td>\n",
       "    </tr>\n",
       "    <tr>\n",
       "      <th>2</th>\n",
       "      <td>Algeria</td>\n",
       "      <td>27.3</td>\n",
       "      <td>38.4</td>\n",
       "      <td>4.17</td>\n",
       "      <td>31.4</td>\n",
       "      <td>12900</td>\n",
       "      <td>16.100</td>\n",
       "      <td>76.5</td>\n",
       "      <td>2.89</td>\n",
       "      <td>4460</td>\n",
       "    </tr>\n",
       "    <tr>\n",
       "      <th>3</th>\n",
       "      <td>Angola</td>\n",
       "      <td>119.0</td>\n",
       "      <td>62.3</td>\n",
       "      <td>2.85</td>\n",
       "      <td>42.9</td>\n",
       "      <td>5900</td>\n",
       "      <td>22.400</td>\n",
       "      <td>60.1</td>\n",
       "      <td>6.16</td>\n",
       "      <td>3530</td>\n",
       "    </tr>\n",
       "    <tr>\n",
       "      <th>4</th>\n",
       "      <td>Antigua and Barbuda</td>\n",
       "      <td>10.3</td>\n",
       "      <td>45.5</td>\n",
       "      <td>6.03</td>\n",
       "      <td>58.9</td>\n",
       "      <td>19100</td>\n",
       "      <td>1.440</td>\n",
       "      <td>76.8</td>\n",
       "      <td>2.13</td>\n",
       "      <td>12200</td>\n",
       "    </tr>\n",
       "    <tr>\n",
       "      <th>5</th>\n",
       "      <td>Argentina</td>\n",
       "      <td>14.5</td>\n",
       "      <td>18.9</td>\n",
       "      <td>8.10</td>\n",
       "      <td>16.0</td>\n",
       "      <td>18700</td>\n",
       "      <td>20.900</td>\n",
       "      <td>75.8</td>\n",
       "      <td>2.37</td>\n",
       "      <td>10300</td>\n",
       "    </tr>\n",
       "    <tr>\n",
       "      <th>6</th>\n",
       "      <td>Armenia</td>\n",
       "      <td>18.1</td>\n",
       "      <td>20.8</td>\n",
       "      <td>4.40</td>\n",
       "      <td>45.3</td>\n",
       "      <td>6700</td>\n",
       "      <td>7.770</td>\n",
       "      <td>73.3</td>\n",
       "      <td>1.69</td>\n",
       "      <td>3220</td>\n",
       "    </tr>\n",
       "    <tr>\n",
       "      <th>7</th>\n",
       "      <td>Australia</td>\n",
       "      <td>4.8</td>\n",
       "      <td>19.8</td>\n",
       "      <td>8.73</td>\n",
       "      <td>20.9</td>\n",
       "      <td>41400</td>\n",
       "      <td>1.160</td>\n",
       "      <td>82.0</td>\n",
       "      <td>1.93</td>\n",
       "      <td>51900</td>\n",
       "    </tr>\n",
       "    <tr>\n",
       "      <th>8</th>\n",
       "      <td>Austria</td>\n",
       "      <td>4.3</td>\n",
       "      <td>51.3</td>\n",
       "      <td>11.00</td>\n",
       "      <td>47.8</td>\n",
       "      <td>43200</td>\n",
       "      <td>0.873</td>\n",
       "      <td>80.5</td>\n",
       "      <td>1.44</td>\n",
       "      <td>46900</td>\n",
       "    </tr>\n",
       "    <tr>\n",
       "      <th>9</th>\n",
       "      <td>Azerbaijan</td>\n",
       "      <td>39.2</td>\n",
       "      <td>54.3</td>\n",
       "      <td>5.88</td>\n",
       "      <td>20.7</td>\n",
       "      <td>16000</td>\n",
       "      <td>13.800</td>\n",
       "      <td>69.1</td>\n",
       "      <td>1.92</td>\n",
       "      <td>5840</td>\n",
       "    </tr>\n",
       "  </tbody>\n",
       "</table>\n",
       "</div>"
      ],
      "text/plain": [
       "               country  child_mort  exports  health  imports  income  \\\n",
       "0          Afghanistan        90.2     10.0    7.58     44.9    1610   \n",
       "1              Albania        16.6     28.0    6.55     48.6    9930   \n",
       "2              Algeria        27.3     38.4    4.17     31.4   12900   \n",
       "3               Angola       119.0     62.3    2.85     42.9    5900   \n",
       "4  Antigua and Barbuda        10.3     45.5    6.03     58.9   19100   \n",
       "5            Argentina        14.5     18.9    8.10     16.0   18700   \n",
       "6              Armenia        18.1     20.8    4.40     45.3    6700   \n",
       "7            Australia         4.8     19.8    8.73     20.9   41400   \n",
       "8              Austria         4.3     51.3   11.00     47.8   43200   \n",
       "9           Azerbaijan        39.2     54.3    5.88     20.7   16000   \n",
       "\n",
       "   inflation  life_expec  total_fer   gdpp  \n",
       "0      9.440        56.2       5.82    553  \n",
       "1      4.490        76.3       1.65   4090  \n",
       "2     16.100        76.5       2.89   4460  \n",
       "3     22.400        60.1       6.16   3530  \n",
       "4      1.440        76.8       2.13  12200  \n",
       "5     20.900        75.8       2.37  10300  \n",
       "6      7.770        73.3       1.69   3220  \n",
       "7      1.160        82.0       1.93  51900  \n",
       "8      0.873        80.5       1.44  46900  \n",
       "9     13.800        69.1       1.92   5840  "
      ]
     },
     "execution_count": 3,
     "metadata": {},
     "output_type": "execute_result"
    }
   ],
   "source": [
    "country_df.head(10)"
   ]
  },
  {
   "cell_type": "markdown",
   "metadata": {},
   "source": [
    "#### installing yellowbrick for visualization"
   ]
  },
  {
   "cell_type": "code",
   "execution_count": 15,
   "metadata": {},
   "outputs": [
    {
     "name": "stdout",
     "output_type": "stream",
     "text": [
      "Requirement already satisfied: yellowbrick in c:\\users\\arunabh\\miniconda3\\envs\\tensorflow\\lib\\site-packages (1.3.post1)\n",
      "Requirement already satisfied: scipy>=1.0.0 in c:\\users\\arunabh\\miniconda3\\envs\\tensorflow\\lib\\site-packages (from yellowbrick) (1.6.1)\n",
      "Requirement already satisfied: cycler>=0.10.0 in c:\\users\\arunabh\\miniconda3\\envs\\tensorflow\\lib\\site-packages (from yellowbrick) (0.10.0)\n",
      "Requirement already satisfied: numpy<1.20,>=1.16.0 in c:\\users\\arunabh\\miniconda3\\envs\\tensorflow\\lib\\site-packages (from yellowbrick) (1.19.5)\n",
      "Requirement already satisfied: scikit-learn>=0.20 in c:\\users\\arunabh\\miniconda3\\envs\\tensorflow\\lib\\site-packages (from yellowbrick) (0.24.1)\n",
      "Requirement already satisfied: matplotlib!=3.0.0,>=2.0.2 in c:\\users\\arunabh\\miniconda3\\envs\\tensorflow\\lib\\site-packages (from yellowbrick) (3.3.4)\n",
      "Requirement already satisfied: six in c:\\users\\arunabh\\miniconda3\\envs\\tensorflow\\lib\\site-packages (from cycler>=0.10.0->yellowbrick) (1.15.0)\n",
      "Requirement already satisfied: pillow>=6.2.0 in c:\\users\\arunabh\\miniconda3\\envs\\tensorflow\\lib\\site-packages (from matplotlib!=3.0.0,>=2.0.2->yellowbrick) (8.1.1)\n",
      "Requirement already satisfied: python-dateutil>=2.1 in c:\\users\\arunabh\\miniconda3\\envs\\tensorflow\\lib\\site-packages (from matplotlib!=3.0.0,>=2.0.2->yellowbrick) (2.8.1)\n",
      "Requirement already satisfied: pyparsing!=2.0.4,!=2.1.2,!=2.1.6,>=2.0.3 in c:\\users\\arunabh\\miniconda3\\envs\\tensorflow\\lib\\site-packages (from matplotlib!=3.0.0,>=2.0.2->yellowbrick) (2.4.7)\n",
      "Requirement already satisfied: kiwisolver>=1.0.1 in c:\\users\\arunabh\\miniconda3\\envs\\tensorflow\\lib\\site-packages (from matplotlib!=3.0.0,>=2.0.2->yellowbrick) (1.3.1)\n",
      "Requirement already satisfied: threadpoolctl>=2.0.0 in c:\\users\\arunabh\\miniconda3\\envs\\tensorflow\\lib\\site-packages (from scikit-learn>=0.20->yellowbrick) (2.1.0)\n",
      "Requirement already satisfied: joblib>=0.11 in c:\\users\\arunabh\\miniconda3\\envs\\tensorflow\\lib\\site-packages (from scikit-learn>=0.20->yellowbrick) (1.0.1)\n"
     ]
    }
   ],
   "source": [
    "!pip install yellowbrick"
   ]
  },
  {
   "cell_type": "markdown",
   "metadata": {},
   "source": [
    "#### scale data"
   ]
  },
  {
   "cell_type": "code",
   "execution_count": 8,
   "metadata": {},
   "outputs": [],
   "source": [
    "from sklearn.preprocessing import StandardScaler\n",
    "sc=StandardScaler()\n",
    "data_scaled=sc.fit_transform(country_df.drop(['country'],axis=1))"
   ]
  },
  {
   "cell_type": "markdown",
   "metadata": {},
   "source": [
    "#### Introducing Elbow Curve"
   ]
  },
  {
   "cell_type": "code",
   "execution_count": 9,
   "metadata": {},
   "outputs": [],
   "source": [
    "# #Plotting Elbow Curve\n",
    "# from sklearn.cluster import KMeans\n",
    "# from yellowbrick.cluster import KElbowVisualizer\n",
    "# from sklearn import metrics\n",
    "\n",
    "# model = KMeans()\n",
    "# visualizer = KElbowVisualizer(model, k=(1,10))\n",
    "# visualizer.fit(data_scaled)    \n",
    "# visualizer.poof()"
   ]
  },
  {
   "cell_type": "code",
   "execution_count": 12,
   "metadata": {},
   "outputs": [],
   "source": [
    "from sklearn.cluster import KMeans"
   ]
  },
  {
   "cell_type": "code",
   "execution_count": 13,
   "metadata": {},
   "outputs": [],
   "source": [
    "from matplotlib import pyplot as plt\n",
    "%matplotlib inline\n",
    "def plot_distortion(X,max_clusters = 10):\n",
    "    distortions = []\n",
    "    for i in range(1, max_clusters +1):\n",
    "        km = KMeans(n_clusters=i,\n",
    "                    init='k-means++',\n",
    "                    n_init=10,\n",
    "                    random_state=0)\n",
    "        km.fit(X)\n",
    "        distortions.append(km.inertia_)\n",
    "\n",
    "    plt.plot(range(1,max_clusters +1), distortions, marker='o')\n",
    "    plt.xlabel('Number of clusters')\n",
    "    plt.ylabel('Distortion')\n",
    "    plt.show() "
   ]
  },
  {
   "cell_type": "code",
   "execution_count": 14,
   "metadata": {},
   "outputs": [
    {
     "name": "stderr",
     "output_type": "stream",
     "text": [
      "C:\\Users\\Arunabh\\miniconda3\\envs\\tensorflow\\lib\\site-packages\\sklearn\\cluster\\_kmeans.py:882: UserWarning: KMeans is known to have a memory leak on Windows with MKL, when there are less chunks than available threads. You can avoid it by setting the environment variable OMP_NUM_THREADS=1.\n",
      "  f\"KMeans is known to have a memory leak on Windows \"\n"
     ]
    },
    {
     "data": {
      "image/png": "[encoded data removed]",
      "text/plain": [
       "<Figure size 432x288 with 1 Axes>"
      ]
     },
     "metadata": {
      "needs_background": "light"
     },
     "output_type": "display_data"
    }
   ],
   "source": [
    "plot_distortion(data_scaled)"
   ]
  },
  {
   "cell_type": "code",
   "execution_count": 15,
   "metadata": {},
   "outputs": [
    {
     "name": "stdout",
     "output_type": "stream",
     "text": [
      "[[-0.40645337 -0.03165259 -0.2244709   0.02416161 -0.25177041 -0.01716742\n",
      "   0.25473362 -0.42434279 -0.35448141]\n",
      " [ 1.36021776 -0.43753313 -0.15598401 -0.18920377 -0.68689408  0.40211078\n",
      "  -1.28217981  1.36494385 -0.60424243]\n",
      " [-0.82744866  0.64507985  0.72741122  0.19063895  1.48424268 -0.48492064\n",
      "   1.07957853 -0.79187687  1.61599536]]\n"
     ]
    }
   ],
   "source": [
    "#Fitting data into K-Means model with 3 clusters\n",
    "km_3=KMeans(n_clusters=3,random_state=12345)\n",
    "km_3.fit(data_scaled)\n",
    "print(km_3.cluster_centers_)"
   ]
  },
  {
   "cell_type": "code",
   "execution_count": 16,
   "metadata": {},
   "outputs": [
    {
     "data": {
      "text/plain": [
       "0    84\n",
       "1    47\n",
       "2    36\n",
       "dtype: int64"
      ]
     },
     "execution_count": 16,
     "metadata": {},
     "output_type": "execute_result"
    }
   ],
   "source": [
    "# count of points in each cluster\n",
    "pd.Series(km_3.labels_).value_counts()"
   ]
  },
  {
   "cell_type": "markdown",
   "metadata": {},
   "source": [
    "#### combine original country data with labels"
   ]
  },
  {
   "cell_type": "code",
   "execution_count": 17,
   "metadata": {},
   "outputs": [],
   "source": [
    "#country_df['cluster_no'] = pd.Series(km_3._labels_)\n",
    "scaled_df = pd.DataFrame(data_scaled)\n",
    "scaled_df['9'] = pd.Series(km_3.labels_)"
   ]
  },
  {
   "cell_type": "code",
   "execution_count": 18,
   "metadata": {},
   "outputs": [
    {
     "data": {
      "text/html": [
       "<div>\n",
       "<style scoped>\n",
       "    .dataframe tbody tr th:only-of-type {\n",
       "        vertical-align: middle;\n",
       "    }\n",
       "\n",
       "    .dataframe tbody tr th {\n",
       "        vertical-align: top;\n",
       "    }\n",
       "\n",
       "    .dataframe thead th {\n",
       "        text-align: right;\n",
       "    }\n",
       "</style>\n",
       "<table border=\"1\" class=\"dataframe\">\n",
       "  <thead>\n",
       "    <tr style=\"text-align: right;\">\n",
       "      <th></th>\n",
       "      <th>0</th>\n",
       "      <th>1</th>\n",
       "      <th>2</th>\n",
       "      <th>3</th>\n",
       "      <th>4</th>\n",
       "      <th>5</th>\n",
       "      <th>6</th>\n",
       "      <th>7</th>\n",
       "      <th>8</th>\n",
       "      <th>9</th>\n",
       "    </tr>\n",
       "  </thead>\n",
       "  <tbody>\n",
       "    <tr>\n",
       "      <th>0</th>\n",
       "      <td>1.291532</td>\n",
       "      <td>-1.138280</td>\n",
       "      <td>0.279088</td>\n",
       "      <td>-0.082455</td>\n",
       "      <td>-0.808245</td>\n",
       "      <td>0.157336</td>\n",
       "      <td>-1.619092</td>\n",
       "      <td>1.902882</td>\n",
       "      <td>-0.679180</td>\n",
       "      <td>1</td>\n",
       "    </tr>\n",
       "    <tr>\n",
       "      <th>1</th>\n",
       "      <td>-0.538949</td>\n",
       "      <td>-0.479658</td>\n",
       "      <td>-0.097016</td>\n",
       "      <td>0.070837</td>\n",
       "      <td>-0.375369</td>\n",
       "      <td>-0.312347</td>\n",
       "      <td>0.647866</td>\n",
       "      <td>-0.859973</td>\n",
       "      <td>-0.485623</td>\n",
       "      <td>0</td>\n",
       "    </tr>\n",
       "    <tr>\n",
       "      <th>2</th>\n",
       "      <td>-0.272833</td>\n",
       "      <td>-0.099122</td>\n",
       "      <td>-0.966073</td>\n",
       "      <td>-0.641762</td>\n",
       "      <td>-0.220844</td>\n",
       "      <td>0.789274</td>\n",
       "      <td>0.670423</td>\n",
       "      <td>-0.038404</td>\n",
       "      <td>-0.465376</td>\n",
       "      <td>0</td>\n",
       "    </tr>\n",
       "    <tr>\n",
       "      <th>3</th>\n",
       "      <td>2.007808</td>\n",
       "      <td>0.775381</td>\n",
       "      <td>-1.448071</td>\n",
       "      <td>-0.165315</td>\n",
       "      <td>-0.585043</td>\n",
       "      <td>1.387054</td>\n",
       "      <td>-1.179234</td>\n",
       "      <td>2.128151</td>\n",
       "      <td>-0.516268</td>\n",
       "      <td>1</td>\n",
       "    </tr>\n",
       "    <tr>\n",
       "      <th>4</th>\n",
       "      <td>-0.695634</td>\n",
       "      <td>0.160668</td>\n",
       "      <td>-0.286894</td>\n",
       "      <td>0.497568</td>\n",
       "      <td>0.101732</td>\n",
       "      <td>-0.601749</td>\n",
       "      <td>0.704258</td>\n",
       "      <td>-0.541946</td>\n",
       "      <td>-0.041817</td>\n",
       "      <td>0</td>\n",
       "    </tr>\n",
       "    <tr>\n",
       "      <th>5</th>\n",
       "      <td>-0.591177</td>\n",
       "      <td>-0.812628</td>\n",
       "      <td>0.468966</td>\n",
       "      <td>-1.279787</td>\n",
       "      <td>0.080920</td>\n",
       "      <td>1.244725</td>\n",
       "      <td>0.591474</td>\n",
       "      <td>-0.382933</td>\n",
       "      <td>-0.145791</td>\n",
       "      <td>0</td>\n",
       "    </tr>\n",
       "    <tr>\n",
       "      <th>6</th>\n",
       "      <td>-0.501643</td>\n",
       "      <td>-0.743107</td>\n",
       "      <td>-0.882089</td>\n",
       "      <td>-0.065883</td>\n",
       "      <td>-0.543421</td>\n",
       "      <td>-0.001123</td>\n",
       "      <td>0.309514</td>\n",
       "      <td>-0.833471</td>\n",
       "      <td>-0.533233</td>\n",
       "      <td>0</td>\n",
       "    </tr>\n",
       "    <tr>\n",
       "      <th>7</th>\n",
       "      <td>-0.832423</td>\n",
       "      <td>-0.779697</td>\n",
       "      <td>0.699011</td>\n",
       "      <td>-1.076779</td>\n",
       "      <td>1.261966</td>\n",
       "      <td>-0.628316</td>\n",
       "      <td>1.290735</td>\n",
       "      <td>-0.674457</td>\n",
       "      <td>2.130699</td>\n",
       "      <td>2</td>\n",
       "    </tr>\n",
       "    <tr>\n",
       "      <th>8</th>\n",
       "      <td>-0.844858</td>\n",
       "      <td>0.372890</td>\n",
       "      <td>1.527901</td>\n",
       "      <td>0.037693</td>\n",
       "      <td>1.355617</td>\n",
       "      <td>-0.655549</td>\n",
       "      <td>1.121559</td>\n",
       "      <td>-0.999109</td>\n",
       "      <td>1.857082</td>\n",
       "      <td>2</td>\n",
       "    </tr>\n",
       "    <tr>\n",
       "      <th>9</th>\n",
       "      <td>0.023128</td>\n",
       "      <td>0.482661</td>\n",
       "      <td>-0.341667</td>\n",
       "      <td>-1.085065</td>\n",
       "      <td>-0.059556</td>\n",
       "      <td>0.571037</td>\n",
       "      <td>-0.164178</td>\n",
       "      <td>-0.681083</td>\n",
       "      <td>-0.389857</td>\n",
       "      <td>0</td>\n",
       "    </tr>\n",
       "  </tbody>\n",
       "</table>\n",
       "</div>"
      ],
      "text/plain": [
       "          0         1         2         3         4         5         6  \\\n",
       "0  1.291532 -1.138280  0.279088 -0.082455 -0.808245  0.157336 -1.619092   \n",
       "1 -0.538949 -0.479658 -0.097016  0.070837 -0.375369 -0.312347  0.647866   \n",
       "2 -0.272833 -0.099122 -0.966073 -0.641762 -0.220844  0.789274  0.670423   \n",
       "3  2.007808  0.775381 -1.448071 -0.165315 -0.585043  1.387054 -1.179234   \n",
       "4 -0.695634  0.160668 -0.286894  0.497568  0.101732 -0.601749  0.704258   \n",
       "5 -0.591177 -0.812628  0.468966 -1.279787  0.080920  1.244725  0.591474   \n",
       "6 -0.501643 -0.743107 -0.882089 -0.065883 -0.543421 -0.001123  0.309514   \n",
       "7 -0.832423 -0.779697  0.699011 -1.076779  1.261966 -0.628316  1.290735   \n",
       "8 -0.844858  0.372890  1.527901  0.037693  1.355617 -0.655549  1.121559   \n",
       "9  0.023128  0.482661 -0.341667 -1.085065 -0.059556  0.571037 -0.164178   \n",
       "\n",
       "          7         8  9  \n",
       "0  1.902882 -0.679180  1  \n",
       "1 -0.859973 -0.485623  0  \n",
       "2 -0.038404 -0.465376  0  \n",
       "3  2.128151 -0.516268  1  \n",
       "4 -0.541946 -0.041817  0  \n",
       "5 -0.382933 -0.145791  0  \n",
       "6 -0.833471 -0.533233  0  \n",
       "7 -0.674457  2.130699  2  \n",
       "8 -0.999109  1.857082  2  \n",
       "9 -0.681083 -0.389857  0  "
      ]
     },
     "execution_count": 18,
     "metadata": {},
     "output_type": "execute_result"
    }
   ],
   "source": [
    "scaled_df.head(10)"
   ]
  },
  {
   "cell_type": "markdown",
   "metadata": {},
   "source": [
    "#### Let us reduce the dimension using PCA to check how these clusters look\n",
    "PCA will be covered extensively in the following lecture. for today, it is only a tool that is used to reduce n-dimensional data to 2-d so it can be visualized"
   ]
  },
  {
   "cell_type": "code",
   "execution_count": 19,
   "metadata": {},
   "outputs": [
    {
     "data": {
      "text/plain": [
       "1"
      ]
     },
     "execution_count": 19,
     "metadata": {},
     "output_type": "execute_result"
    }
   ],
   "source": [
    "scaled_df.at[0,'9']"
   ]
  },
  {
   "cell_type": "code",
   "execution_count": 20,
   "metadata": {},
   "outputs": [],
   "source": [
    "from sklearn.decomposition import PCA\n",
    "pca = PCA(n_components=2).fit(scaled_df)\n",
    "pca_2d = pca.transform(scaled_df)"
   ]
  },
  {
   "cell_type": "code",
   "execution_count": 21,
   "metadata": {},
   "outputs": [
    {
     "data": {
      "text/plain": [
       "array([[-2.81289051e+00,  2.05834722e-01],\n",
       "       [ 2.90462518e-01, -7.02677083e-01],\n",
       "       [-4.08509840e-01, -5.43374582e-01],\n",
       "       [-2.83281707e+00,  1.79293469e+00],\n",
       "       [ 8.98447739e-01,  3.44087092e-02],\n",
       "       [-8.91302929e-02, -1.82376837e+00],\n",
       "       [-2.42025490e-01, -6.93167183e-01],\n",
       "       [ 2.53292886e+00, -1.86183561e+00],\n",
       "       [ 3.15754670e+00, -6.20581780e-01],\n",
       "       [-2.95793127e-01, -4.68099746e-01],\n",
       "       [ 1.15366020e+00, -7.04125448e-01],\n",
       "       [ 1.83675932e+00,  6.05520398e-01],\n",
       "       [-1.24369124e+00, -1.05240653e+00],\n",
       "       [ 9.52164361e-01, -5.65044330e-01],\n",
       "       [ 4.39976379e-01,  4.17219590e-01],\n",
       "       [ 3.32319874e+00,  7.61687935e-01],\n",
       "       [ 7.98386299e-02,  5.90191545e-01],\n",
       "       [-2.58638240e+00,  4.91744113e-01],\n",
       "       [-2.84310982e-01,  6.72554522e-01],\n",
       "       [-9.05861670e-01, -1.92895304e-01],\n",
       "       [ 8.59640755e-01, -1.06582094e+00],\n",
       "       [-8.22414599e-01,  5.02659427e-01],\n",
       "       [ 2.70408753e-02, -2.19891053e+00],\n",
       "       [ 2.64442646e+00,  1.17233447e-01],\n",
       "       [ 7.67505815e-01, -8.10713858e-02],\n",
       "       [-3.01476305e+00,  1.60802573e-01],\n",
       "       [-2.78278305e+00, -2.68879153e-01],\n",
       "       [-6.98470917e-01,  8.09810426e-01],\n",
       "       [-2.71526874e+00,  1.69144335e-01],\n",
       "       [ 2.73439520e+00, -1.59645065e+00],\n",
       "       [-2.88714758e-01,  2.34844534e-01],\n",
       "       [-3.84786003e+00,  5.14610608e-01],\n",
       "       [-3.43784408e+00,  1.42359199e+00],\n",
       "       [ 8.23435837e-01, -1.15361498e+00],\n",
       "       [-7.98594189e-02, -1.30193546e+00],\n",
       "       [-3.71998098e-03, -1.84709691e+00],\n",
       "       [-2.02713646e+00,  3.82529208e-01],\n",
       "       [-3.05786309e+00,  1.18869807e+00],\n",
       "       [-1.66588495e+00,  2.19686565e+00],\n",
       "       [ 8.11305734e-01, -1.42047029e+00],\n",
       "       [-2.48910697e+00,  1.29559674e+00],\n",
       "       [ 1.01612929e+00, -9.32752642e-01],\n",
       "       [ 2.33159284e+00,  3.00829418e-02],\n",
       "       [ 2.20771794e+00,  4.48435612e-01],\n",
       "       [ 3.20865406e+00, -7.16742267e-01],\n",
       "       [-3.48659847e-01, -9.53175378e-01],\n",
       "       [-1.09195183e-01, -1.11441589e+00],\n",
       "       [-9.60959080e-01, -8.90284862e-01],\n",
       "       [-4.83805017e-02, -6.66503996e-01],\n",
       "       [-1.19002559e+00,  2.49026200e+00],\n",
       "       [-2.41509295e+00, -5.93224188e-01],\n",
       "       [ 1.51685057e+00,  9.06606388e-01],\n",
       "       [-3.13543181e-01,  9.71263556e-01],\n",
       "       [ 2.64289638e+00, -9.68645866e-01],\n",
       "       [ 2.44516666e+00, -1.73884432e+00],\n",
       "       [-1.35676676e+00,  3.66944267e-01],\n",
       "       [-2.13596377e+00,  2.87896432e-01],\n",
       "       [ 1.96503495e-01, -5.98606622e-01],\n",
       "       [ 2.85536966e+00, -1.15950140e+00],\n",
       "       [-1.98801902e+00,  4.22876025e-01],\n",
       "       [ 1.95085930e+00, -1.69008305e+00],\n",
       "       [ 1.66782335e-02, -5.27917972e-01],\n",
       "       [-7.71158904e-01, -6.70961205e-01],\n",
       "       [-2.87621930e+00,  8.17828751e-01],\n",
       "       [-2.72973790e+00,  2.89415300e-02],\n",
       "       [-4.43788838e-01,  1.26660585e+00],\n",
       "       [-4.26977265e+00,  1.91301848e+00],\n",
       "       [ 1.69510202e+00,  1.15637077e+00],\n",
       "       [ 2.66325303e+00, -5.31797992e-01],\n",
       "       [-1.45021412e+00, -6.02311391e-01],\n",
       "       [-1.07649148e+00, -8.25431258e-01],\n",
       "       [-1.27063458e-01, -1.41786020e+00],\n",
       "       [-9.65465674e-01, -2.25590446e-01],\n",
       "       [ 3.84386432e+00,  1.81616744e+00],\n",
       "       [ 1.66577071e+00, -9.64248419e-01],\n",
       "       [ 2.34132015e+00, -1.68341083e+00],\n",
       "       [-1.17260518e-01, -3.53267534e-01],\n",
       "       [ 2.44638883e+00, -2.33061445e+00],\n",
       "       [ 4.29563038e-02,  4.68348884e-01],\n",
       "       [-4.06808194e-01, -3.03178330e-01],\n",
       "       [-1.81537226e+00, -1.42025073e-01],\n",
       "       [-1.17232620e+00,  4.27015927e-01],\n",
       "       [ 2.65038898e+00,  1.87593504e-01],\n",
       "       [-4.62298037e-01,  1.20207664e+00],\n",
       "       [-1.47795684e+00,  5.55413306e-01],\n",
       "       [ 1.04926964e+00,  5.21304339e-02],\n",
       "       [ 1.02835932e+00, -3.73035617e-01],\n",
       "       [-1.71747024e+00,  2.12227562e+00],\n",
       "       [-1.68588356e+00,  1.14807277e+00],\n",
       "       [ 6.91754664e-01,  3.02183788e-01],\n",
       "       [ 1.27098509e+00,  6.22384664e-01],\n",
       "       [ 7.11718930e+00,  5.01734408e+00],\n",
       "       [ 5.91115515e-01, -2.14074990e-01],\n",
       "       [-2.07564610e+00,  3.68444726e-01],\n",
       "       [-2.88316302e+00,  3.17504480e-01],\n",
       "       [ 1.08786258e+00,  1.47574401e+00],\n",
       "       [ 9.65733362e-01,  8.85648121e-01],\n",
       "       [-3.29805538e+00,  6.89512638e-01],\n",
       "       [ 3.81208315e+00,  4.73920988e+00],\n",
       "       [-1.88451882e+00,  1.42801465e+00],\n",
       "       [ 7.59817411e-01,  3.00098022e-01],\n",
       "       [-4.68415055e-01,  9.68851584e-02],\n",
       "       [ 3.79778006e-01,  7.26646131e-02],\n",
       "       [-1.05839118e+00,  4.57126623e-01],\n",
       "       [ 8.90479562e-01, -3.57095669e-01],\n",
       "       [-3.59063409e-01, -3.78634080e-01],\n",
       "       [-2.82626167e+00,  9.82844079e-01],\n",
       "       [-1.94510349e+00, -1.68470018e+00],\n",
       "       [-9.86244264e-01,  1.03394024e+00],\n",
       "       [-1.41811717e+00, -8.59815098e-01],\n",
       "       [ 3.56704659e+00,  2.40193753e-01],\n",
       "       [ 1.99949518e+00, -1.48168590e+00],\n",
       "       [-3.33363326e+00,  1.09999852e+00],\n",
       "       [-4.77954252e+00,  8.37968616e-02],\n",
       "       [ 3.94027561e+00, -1.23914174e+00],\n",
       "       [ 1.01035778e+00,  4.29847362e-01],\n",
       "       [-2.29875654e+00, -4.50334657e-01],\n",
       "       [ 1.03297895e+00,  1.02056108e+00],\n",
       "       [-1.09451569e-02,  2.60224542e-01],\n",
       "       [-1.50375459e-01, -1.18388274e+00],\n",
       "       [-9.01887436e-01, -1.87124999e-01],\n",
       "       [ 1.08246192e+00, -7.53231200e-01],\n",
       "       [ 1.98224370e+00, -1.38351872e+00],\n",
       "       [ 4.45680936e+00, -4.55891794e-03],\n",
       "       [ 4.37101305e-01, -7.42089641e-01],\n",
       "       [ 4.00063274e-02, -1.14481428e+00],\n",
       "       [-1.60426675e+00, -9.23550076e-01],\n",
       "       [-6.72199199e-01, -8.63181567e-02],\n",
       "       [ 7.49406076e-01, -2.19262864e-01],\n",
       "       [-1.84455153e+00,  1.37705913e-01],\n",
       "       [ 7.00708554e-01, -9.55244396e-01],\n",
       "       [ 1.45220787e+00,  2.78991622e+00],\n",
       "       [-3.24252431e+00, -3.56963092e-02],\n",
       "       [ 5.91815272e+00,  6.67274046e+00],\n",
       "       [ 2.18363107e+00,  1.07184025e+00],\n",
       "       [ 2.43874665e+00,  2.37089318e-01],\n",
       "       [-9.04149184e-01,  1.25777622e+00],\n",
       "       [-1.12517858e+00, -4.93685458e-01],\n",
       "       [ 2.07183983e+00, -4.00362819e-01],\n",
       "       [ 2.18935800e+00, -1.70937132e+00],\n",
       "       [-7.11315433e-01, -1.11352020e+00],\n",
       "       [-1.07322841e-01, -1.28518898e-01],\n",
       "       [-2.24144740e+00, -6.95495062e-01],\n",
       "       [ 5.58729751e-02, -1.61177045e-01],\n",
       "       [ 3.00686055e+00, -7.92074324e-01],\n",
       "       [ 4.29035092e+00, -2.61151589e-01],\n",
       "       [-1.34832098e+00, -8.73830533e-02],\n",
       "       [-2.47052805e+00, -1.37371722e-01],\n",
       "       [ 7.73783887e-01,  6.80285379e-01],\n",
       "       [-2.28122530e+00, -1.06925986e+00],\n",
       "       [-1.91674570e+00,  1.03021101e+00],\n",
       "       [-8.70477014e-01, -1.68581985e-01],\n",
       "       [ 4.63445065e-01,  5.74528767e-02],\n",
       "       [ 2.78004684e-01, -1.48534776e+00],\n",
       "       [-5.79417363e-01,  1.20392388e+00],\n",
       "       [-2.74940821e+00, -2.25151439e-01],\n",
       "       [ 1.67231409e-01, -2.03103481e-01],\n",
       "       [ 2.59809331e+00,  1.21490922e+00],\n",
       "       [ 2.25172862e+00, -1.42995025e+00],\n",
       "       [ 2.86324946e+00, -2.78147945e+00],\n",
       "       [ 4.95550022e-01, -1.49596348e+00],\n",
       "       [-9.69617059e-01, -7.30638094e-01],\n",
       "       [-9.30764801e-01,  5.65930229e-01],\n",
       "       [-6.62525331e-01, -1.28596215e+00],\n",
       "       [ 3.58377650e-01,  1.26602895e+00],\n",
       "       [-1.82620655e+00, -7.13439631e-02],\n",
       "       [-2.76869229e+00,  5.83633321e-01]])"
      ]
     },
     "execution_count": 21,
     "metadata": {},
     "output_type": "execute_result"
    }
   ],
   "source": [
    "pca_2d"
   ]
  },
  {
   "cell_type": "code",
   "execution_count": 22,
   "metadata": {},
   "outputs": [
    {
     "data": {
      "image/png": "[encoded data removed]",
      "text/plain": [
       "<Figure size 432x288 with 1 Axes>"
      ]
     },
     "metadata": {
      "needs_background": "light"
     },
     "output_type": "display_data"
    }
   ],
   "source": [
    "import pylab as pl\n",
    "for i in range(0, pca_2d.shape[0]):\n",
    "    if  scaled_df.at[i,'9']== 0:\n",
    "        c1 = pl.scatter(pca_2d[i,0],pca_2d[i,1],c='r',\n",
    "    marker='+')\n",
    "    elif scaled_df.at[i,'9'] == 1:\n",
    "        c2 = pl.scatter(pca_2d[i,0],pca_2d[i,1],c='g',\n",
    "    marker='o')\n",
    "    elif scaled_df.at[i,'9'] == 2:\n",
    "        c3 = pl.scatter(pca_2d[i,0],pca_2d[i,1],c='b',\n",
    "    marker='*')\n",
    "pl.legend([c1, c2, c3], ['cluster1', 'cluster2',\n",
    "    'cluster3'])\n",
    "pl.title('country data with 3 clusters')\n",
    "pl.show()"
   ]
  },
  {
   "cell_type": "markdown",
   "metadata": {},
   "source": [
    "* The visualization may be misleading because it is a projection of n-dimensional space to 2-D space.\n",
    "* However, this is the best way to visualize and see how the clusters formed look"
   ]
  },
  {
   "cell_type": "markdown",
   "metadata": {},
   "source": [
    "### To think about?\n",
    "* In your spare time, think about how else can k-means clusters be visualized\n",
    "* try kmeans followed by PCA and visualiation on other(smaller/bigger data to check if clusters are correctly identified this way)"
   ]
  },
  {
   "cell_type": "markdown",
   "metadata": {},
   "source": [
    "## Hierchical Clustering\n",
    "Hierarchical clustering Technique:\n",
    "\n",
    "Hierarchical clustering is one of the popular and easy to understand clustering technique. \n",
    "\n",
    "This clustering technique is divided into two types:\n",
    "* Agglomerative\n",
    "* Divisive\n",
    "\n",
    "#### Technique: \n",
    "Agglomerative Hierarchical clustering Technique: In this technique, initially each data point is considered as an individual cluster. At each iteration, the similar clusters merge with other clusters until one cluster or K clusters are formed.\n",
    "\n",
    "The basic algorithm of Agglomerative is straight forward:\n",
    "* Compute the proximity matrix\n",
    "* Let each data point be a cluster\n",
    "* Repeat: Merge the two closest clusters and update the proximity matrix\n",
    "* Until only a single cluster remains\n",
    "\n",
    "Key operation is the computation of the proximity of two clusters\n",
    "To understand better let’s see a pictorial representation of the Agglomerative Hierarchical clustering Technique. Lets say we have six data points {A,B,C,D,E,F}.\n",
    "\n",
    "<img src='img1.jpg'>\n",
    "<img src='img2.jpg'>\n",
    "<img src='img3.jpg'>\n",
    "<img src='img4.jpg'>\n",
    "<img src='img5.jpg'>\n",
    "<img src='img6.jpg'>\n",
    "<img src='img7.jpg'>\n",
    "<img src='img8.jpg'>\n",
    "\n",
    "#### [ source:https://towardsdatascience.com/understanding-the-concept-of-hierarchical-clustering-technique-c6e8243758ec ]"
   ]
  },
  {
   "cell_type": "markdown",
   "metadata": {},
   "source": [
    "### Linkage Criteria\n",
    "* How are you going to calculate distance between two smallest clusters and group them based on min distance\n",
    "* There isnt a single way to do this"
   ]
  },
  {
   "cell_type": "markdown",
   "metadata": {},
   "source": [
    "### Types of Linkage\n",
    "<img src=\"./singlelinkdist.jpg\"/>\n",
    "<img src=\"./completelinkdist.jpg\"/>\n",
    "<img src=\"./avglinkdist.jpg\"/>\n",
    "<img src=\"./wardlinkage.jpg\"/>"
   ]
  },
  {
   "cell_type": "markdown",
   "metadata": {},
   "source": [
    "## Clustering Demo using <code>iris</code> dataset"
   ]
  },
  {
   "cell_type": "code",
   "execution_count": 23,
   "metadata": {},
   "outputs": [],
   "source": [
    "from sklearn import datasets\n",
    "\n",
    "iris = datasets.load_iris()"
   ]
  },
  {
   "cell_type": "markdown",
   "metadata": {},
   "source": [
    "View the data first 10 samples"
   ]
  },
  {
   "cell_type": "code",
   "execution_count": 24,
   "metadata": {},
   "outputs": [
    {
     "data": {
      "text/plain": [
       "array([[5.1, 3.5, 1.4, 0.2],\n",
       "       [4.9, 3. , 1.4, 0.2],\n",
       "       [4.7, 3.2, 1.3, 0.2],\n",
       "       [4.6, 3.1, 1.5, 0.2],\n",
       "       [5. , 3.6, 1.4, 0.2],\n",
       "       [5.4, 3.9, 1.7, 0.4],\n",
       "       [4.6, 3.4, 1.4, 0.3],\n",
       "       [5. , 3.4, 1.5, 0.2],\n",
       "       [4.4, 2.9, 1.4, 0.2],\n",
       "       [4.9, 3.1, 1.5, 0.1]])"
      ]
     },
     "execution_count": 24,
     "metadata": {},
     "output_type": "execute_result"
    }
   ],
   "source": [
    "iris.data[:10]"
   ]
  },
  {
   "cell_type": "markdown",
   "metadata": {},
   "source": [
    "#### view the <code>target</code> labels."
   ]
  },
  {
   "cell_type": "code",
   "execution_count": 25,
   "metadata": {},
   "outputs": [
    {
     "data": {
      "text/plain": [
       "array([0, 0, 0, 0, 0, 0, 0, 0, 0, 0, 0, 0, 0, 0, 0, 0, 0, 0, 0, 0, 0, 0,\n",
       "       0, 0, 0, 0, 0, 0, 0, 0, 0, 0, 0, 0, 0, 0, 0, 0, 0, 0, 0, 0, 0, 0,\n",
       "       0, 0, 0, 0, 0, 0, 1, 1, 1, 1, 1, 1, 1, 1, 1, 1, 1, 1, 1, 1, 1, 1,\n",
       "       1, 1, 1, 1, 1, 1, 1, 1, 1, 1, 1, 1, 1, 1, 1, 1, 1, 1, 1, 1, 1, 1,\n",
       "       1, 1, 1, 1, 1, 1, 1, 1, 1, 1, 1, 1, 2, 2, 2, 2, 2, 2, 2, 2, 2, 2,\n",
       "       2, 2, 2, 2, 2, 2, 2, 2, 2, 2, 2, 2, 2, 2, 2, 2, 2, 2, 2, 2, 2, 2,\n",
       "       2, 2, 2, 2, 2, 2, 2, 2, 2, 2, 2, 2, 2, 2, 2, 2, 2, 2])"
      ]
     },
     "execution_count": 25,
     "metadata": {},
     "output_type": "execute_result"
    }
   ],
   "source": [
    "iris.target"
   ]
  },
  {
   "cell_type": "code",
   "execution_count": 26,
   "metadata": {},
   "outputs": [],
   "source": [
    "from sklearn.cluster import AgglomerativeClustering"
   ]
  },
  {
   "cell_type": "code",
   "execution_count": 29,
   "metadata": {},
   "outputs": [],
   "source": [
    "# Hierarchical clustering\n",
    "# Ward is the default linkage algorithm, so we'll start with that\n",
    "ward = AgglomerativeClustering(n_clusters=3)\n",
    "ward_pred = ward.fit_predict(iris.data)"
   ]
  },
  {
   "cell_type": "code",
   "execution_count": 30,
   "metadata": {},
   "outputs": [],
   "source": [
    "# Hierarchical clustering using complete linkage\n",
    "# TODO: Create an instance of AgglomerativeClustering with the appropriate parameters\n",
    "complete = AgglomerativeClustering(n_clusters=3, linkage=\"complete\")\n",
    "# Fit & predict\n",
    "# TODO: Make AgglomerativeClustering fit the dataset and predict the cluster labels\n",
    "complete_pred = complete.fit_predict(iris.data)\n",
    "\n",
    "# Hierarchical clustering using average linkage\n",
    "# TODO: Create an instance of AgglomerativeClustering with the appropriate parameters\n",
    "avg = AgglomerativeClustering(n_clusters=3, linkage=\"average\")\n",
    "# Fit & predict\n",
    "# TODO: Make AgglomerativeClustering fit the dataset and predict the cluster labels\n",
    "avg_pred = avg.fit_predict(iris.data)"
   ]
  },
  {
   "cell_type": "markdown",
   "metadata": {},
   "source": [
    "To determine which clustering result better matches the original labels of the samples, we can use ```adjusted_rand_score``` which is an *external cluster validation index* which results in a score between -1 and 1, where 1 means two clusterings are identical of how they grouped the samples in a dataset (regardless of what label is assigned to each cluster).\n",
    "\n",
    "[source: 'Udacity' ]"
   ]
  },
  {
   "cell_type": "code",
   "execution_count": 31,
   "metadata": {},
   "outputs": [],
   "source": [
    "from sklearn.metrics import adjusted_rand_score\n",
    "\n",
    "ward_ar_score = adjusted_rand_score(iris.target, ward_pred)"
   ]
  },
  {
   "cell_type": "code",
   "execution_count": 32,
   "metadata": {},
   "outputs": [],
   "source": [
    "# TODO: Calculated the adjusted Rand score for the complete linkage clustering labels\n",
    "complete_ar_score = adjusted_rand_score(iris.target, complete_pred)\n",
    "\n",
    "# TODO: Calculated the adjusted Rand score for the average linkage clustering labels\n",
    "avg_ar_score = adjusted_rand_score(iris.target, avg_pred)"
   ]
  },
  {
   "cell_type": "markdown",
   "metadata": {},
   "source": [
    "Which algorithm has higher <code> adjusted_rand_score</code>"
   ]
  },
  {
   "cell_type": "code",
   "execution_count": 33,
   "metadata": {},
   "outputs": [
    {
     "name": "stdout",
     "output_type": "stream",
     "text": [
      "Scores: \n",
      "Ward: 0.7311985567707746 \n",
      "Complete:  0.6422512518362898 \n",
      "Average:  0.7591987071071522\n"
     ]
    }
   ],
   "source": [
    "print( \"Scores: \\nWard:\", ward_ar_score,\"\\nComplete: \", complete_ar_score, \"\\nAverage: \", avg_ar_score)"
   ]
  },
  {
   "cell_type": "markdown",
   "metadata": {},
   "source": [
    "To visualize the cluster result we will use Scipy's [```linkage```](https://docs.scipy.org/doc/scipy/reference/generated/scipy.cluster.hierarchy.linkage.html) function to perform the clusteirng again so we can obtain the linkage matrix it will later use to visualize the hierarchy"
   ]
  },
  {
   "cell_type": "code",
   "execution_count": 36,
   "metadata": {},
   "outputs": [],
   "source": [
    "# Import scipy's linkage function to conduct the clustering\n",
    "from scipy.cluster.hierarchy import linkage\n",
    "\n",
    "# Specify the linkage type. Scipy accepts 'ward', 'complete', 'average', as well as other values\n",
    "# Pick the one that resulted in the highest Adjusted Rand Score\n",
    "linkage_type = 'ward'\n",
    "\n",
    "linkage_matrix = linkage(iris.data, linkage_type)"
   ]
  },
  {
   "cell_type": "markdown",
   "metadata": {},
   "source": [
    "#### Plot <code>linkage</code> matrix using <code>dendogram</code> in <code>scipy</code>"
   ]
  },
  {
   "cell_type": "code",
   "execution_count": 37,
   "metadata": {
    "scrolled": true
   },
   "outputs": [
    {
     "data": {
      "image/png": "[encoded data removed]",
      "text/plain": [
       "<Figure size 1584x1296 with 1 Axes>"
      ]
     },
     "metadata": {
      "needs_background": "light"
     },
     "output_type": "display_data"
    }
   ],
   "source": [
    "from scipy.cluster.hierarchy import dendrogram\n",
    "import matplotlib.pyplot as plt\n",
    "plt.figure(figsize=(22,18))\n",
    "\n",
    "dendrogram(linkage_matrix,\n",
    "            orientation='top',\n",
    "            distance_sort='descending',\n",
    "            show_leaf_counts=True)\n",
    "plt.show()"
   ]
  },
  {
   "cell_type": "markdown",
   "metadata": {},
   "source": [
    "## DBScan(Density-Based Spatial Clustering of Applications with Noise)\n",
    "* DBSCAN is a nice alternative to k-means when you don't know how many clusters to expect in your data, but you do know something about how the points should be clustered in terms of density (distance between points in a cluster).\n",
    "\n",
    "* DBSCAN datapoints do not have to be spatial data; they can be color data, intensity values, or other numerical features! This means we can cluster not only based upon proximity, but we can cluster similarly colored objects!\n",
    "\n",
    "\n",
    "#### [source: 'https://github.com/chriswernst/dbscan-python']"
   ]
  },
  {
   "cell_type": "markdown",
   "metadata": {},
   "source": [
    "### How DBScan Works?\n",
    "Consider a set of points in some space to be clustered. Let ε be a parameter specifying the radius of a neighborhood with respect to some point. For the purpose of DBSCAN clustering, the points are classified as core points, (density-)reachable points and outliers, as follows:\n",
    "\n",
    "* A point p is a core point if at least minPts points are within distance ε of it (including p).\n",
    "* A point q is directly reachable from p if point q is within distance ε from core point p. Points are only said to be directly reachable from core points.\n",
    "* A point q is reachable from p if there is a path p1, ..., pn with p1 = p and pn = q, where each pi+1 is directly reachable from pi. Note that this implies that the initial point and all points on the path must be core points, with the possible exception of q.\n",
    "* All points not reachable from any other point are outliers or noise points.\n",
    "\n",
    "Now if p is a core point, then it forms a cluster together with all points (core or non-core) that are reachable from it. Each cluster contains at least one core point; non-core points can be part of a cluster, but they form its \"edge\", since they cannot be used to reach more points.\n",
    "\n",
    "<img src='https://www.mdpi.com/applsci/applsci-09-04398/article_deploy/html/images/applsci-09-04398-g001.png' />\n",
    "\n",
    "[source: Wikipedia]"
   ]
  },
  {
   "cell_type": "code",
   "execution_count": 31,
   "metadata": {},
   "outputs": [
    {
     "data": {
      "image/svg+xml": [
       "<svg height=\"118.91868\" id=\"svg2\" version=\"1.1\" width=\"164.57143\" xmlns=\"http://www.w3.org/2000/svg\" xmlns:cc=\"http://creativecommons.org/ns#\" xmlns:dc=\"http://purl.org/dc/elements/1.1/\" xmlns:rdf=\"http://www.w3.org/1999/02/22-rdf-syntax-ns#\" xmlns:svg=\"http://www.w3.org/2000/svg\">\n",
       "  <defs id=\"defs4\">\n",
       "    <marker id=\"Arrow2Mstart\" orient=\"auto\" refX=\"0\" refY=\"0\" style=\"overflow:visible\">\n",
       "      <path d=\"M 8.7185878,4.0337352 -2.2072895,0.01601326 8.7185884,-4.0017078 c -1.7454984,2.3720609 -1.7354408,5.6174519 -6e-7,8.035443 z\" id=\"path3863\" style=\"font-size:12px;fill-rule:evenodd;stroke-width:0.625;stroke-linejoin:round\" transform=\"scale(0.6,0.6)\"/>\n",
       "    </marker>\n",
       "    <marker id=\"Arrow2Mend\" orient=\"auto\" refX=\"0\" refY=\"0\" style=\"overflow:visible\">\n",
       "      <path d=\"M 8.7185878,4.0337352 -2.2072895,0.01601326 8.7185884,-4.0017078 c -1.7454984,2.3720609 -1.7354408,5.6174519 -6e-7,8.035443 z\" id=\"path3866\" style=\"font-size:12px;fill-rule:evenodd;stroke-width:0.625;stroke-linejoin:round\" transform=\"scale(-0.6,-0.6)\"/>\n",
       "    </marker>\n",
       "  </defs>\n",
       "  <metadata id=\"metadata7\">\n",
       "    <rdf:RDF>\n",
       "      <cc:Work rdf:about=\"\">\n",
       "        <dc:format>image/svg+xml</dc:format>\n",
       "        <dc:type rdf:resource=\"http://purl.org/dc/dcmitype/StillImage\"/>\n",
       "        <dc:title/>\n",
       "      </cc:Work>\n",
       "    </rdf:RDF>\n",
       "  </metadata>\n",
       "  <g id=\"layer1\" transform=\"translate(-288.07143,-66.086366)\">\n",
       "    <g id=\"g4486\" transform=\"translate(14.126592,-54.347249)\">\n",
       "      <path d=\"m 347.14286,150.21933 a 29.285715,29.285715 0 1 1 -58.57143,0 29.285715,29.285715 0 1 1 58.57143,0 z\" id=\"path4488\" style=\"opacity:0.5;fill:none;stroke:#0000ff;stroke-width:1;stroke-linecap:round;stroke-miterlimit:4;stroke-opacity:1;stroke-dasharray:none;stroke-dashoffset:0\"/>\n",
       "      <path d=\"m 347.14286,150.21933 a 29.285715,29.285715 0 1 1 -58.57143,0 29.285715,29.285715 0 1 1 58.57143,0 z\" id=\"path4490\" style=\"fill:#0000ff;stroke:#000000;stroke-width:4.09999943;stroke-miterlimit:4;stroke-dasharray:none\" transform=\"matrix(0.12195124,0,0,0.12195124,279.09407,131.8999)\"/>\n",
       "    </g>\n",
       "    <g id=\"g3788\">\n",
       "      <path d=\"m 347.14286,150.21933 a 29.285715,29.285715 0 1 1 -58.57143,0 29.285715,29.285715 0 1 1 58.57143,0 z\" id=\"path2985\" style=\"opacity:0.5;fill:none;stroke:#ffff00;stroke-width:1;stroke-linecap:round;stroke-miterlimit:4;stroke-opacity:1;stroke-dasharray:none;stroke-dashoffset:0\"/>\n",
       "      <path d=\"m 347.14286,150.21933 a 29.285715,29.285715 0 1 1 -58.57143,0 29.285715,29.285715 0 1 1 58.57143,0 z\" id=\"path2987\" style=\"fill:#ffff00;stroke:#000000;stroke-width:4.09999943;stroke-miterlimit:4;stroke-dasharray:none\" transform=\"matrix(0.12195124,0,0,0.12195124,279.09407,131.8999)\"/>\n",
       "    </g>\n",
       "    <g id=\"g3792\" transform=\"translate(18,-9)\">\n",
       "      <path d=\"m 347.14286,150.21933 a 29.285715,29.285715 0 1 1 -58.57143,0 29.285715,29.285715 0 1 1 58.57143,0 z\" id=\"path3794\" style=\"opacity:0.5;fill:none;stroke:#ff0000;stroke-width:1;stroke-linecap:round;stroke-miterlimit:4;stroke-opacity:1;stroke-dasharray:none;stroke-dashoffset:0\"/>\n",
       "      <path d=\"m 347.14286,150.21933 a 29.285715,29.285715 0 1 1 -58.57143,0 29.285715,29.285715 0 1 1 58.57143,0 z\" id=\"path3796\" style=\"fill:#ff0000;stroke:#000000;stroke-width:4.09999943;stroke-miterlimit:4;stroke-dasharray:none\" transform=\"matrix(0.12195124,0,0,0.12195124,279.09407,131.8999)\"/>\n",
       "    </g>\n",
       "    <g id=\"g3798\" transform=\"translate(38,5)\">\n",
       "      <path d=\"m 347.14286,150.21933 a 29.285715,29.285715 0 1 1 -58.57143,0 29.285715,29.285715 0 1 1 58.57143,0 z\" id=\"path3800\" style=\"opacity:0.5;fill:none;stroke:#ff0000;stroke-width:1;stroke-linecap:round;stroke-miterlimit:4;stroke-opacity:1;stroke-dasharray:none;stroke-dashoffset:0\"/>\n",
       "      <path d=\"m 347.14286,150.21933 a 29.285715,29.285715 0 1 1 -58.57143,0 29.285715,29.285715 0 1 1 58.57143,0 z\" id=\"path3802\" style=\"fill:#ff0000;stroke:#000000;stroke-width:4.09999943;stroke-miterlimit:4;stroke-dasharray:none\" transform=\"matrix(0.12195124,0,0,0.12195124,279.09407,131.8999)\"/>\n",
       "    </g>\n",
       "    <g id=\"g3828\" transform=\"translate(105,-15)\">\n",
       "      <path d=\"m 347.14286,150.21933 a 29.285715,29.285715 0 1 1 -58.57143,0 29.285715,29.285715 0 1 1 58.57143,0 z\" id=\"path3830\" style=\"opacity:0.5;fill:none;stroke:#ffff00;stroke-width:1;stroke-linecap:round;stroke-miterlimit:4;stroke-opacity:1;stroke-dasharray:none;stroke-dashoffset:0\"/>\n",
       "      <path d=\"m 347.14286,150.21933 a 29.285715,29.285715 0 1 1 -58.57143,0 29.285715,29.285715 0 1 1 58.57143,0 z\" id=\"path3832\" style=\"fill:#ffff00;stroke:#000000;stroke-width:4.09999943;stroke-miterlimit:4;stroke-dasharray:none\" transform=\"matrix(0.12195124,0,0,0.12195124,279.09407,131.8999)\"/>\n",
       "    </g>\n",
       "    <g id=\"g3804\" transform=\"translate(60,-4)\">\n",
       "      <path d=\"m 347.14286,150.21933 a 29.285715,29.285715 0 1 1 -58.57143,0 29.285715,29.285715 0 1 1 58.57143,0 z\" id=\"path3806\" style=\"opacity:0.5;fill:none;stroke:#ff0000;stroke-width:1;stroke-linecap:round;stroke-miterlimit:4;stroke-opacity:1;stroke-dasharray:none;stroke-dashoffset:0\"/>\n",
       "      <path d=\"m 347.14286,150.21933 a 29.285715,29.285715 0 1 1 -58.57143,0 29.285715,29.285715 0 1 1 58.57143,0 z\" id=\"path3808\" style=\"fill:#ff0000;stroke:#000000;stroke-width:4.09999943;stroke-miterlimit:4;stroke-dasharray:none\" transform=\"matrix(0.12195124,0,0,0.12195124,279.09407,131.8999)\"/>\n",
       "    </g>\n",
       "    <g id=\"g3810\" transform=\"translate(36,-16)\">\n",
       "      <path d=\"m 347.14286,150.21933 a 29.285715,29.285715 0 1 1 -58.57143,0 29.285715,29.285715 0 1 1 58.57143,0 z\" id=\"path3812\" style=\"opacity:0.5;fill:none;stroke:#ff0000;stroke-width:1;stroke-linecap:round;stroke-miterlimit:4;stroke-opacity:1;stroke-dasharray:none;stroke-dashoffset:0\"/>\n",
       "      <path d=\"m 347.14286,150.21933 a 29.285715,29.285715 0 1 1 -58.57143,0 29.285715,29.285715 0 1 1 58.57143,0 z\" id=\"path3814\" style=\"fill:#ff0000;stroke:#000000;stroke-width:4.09999943;stroke-miterlimit:4;stroke-dasharray:none\" transform=\"matrix(0.12195124,0,0,0.12195124,279.09407,131.8999)\"/>\n",
       "    </g>\n",
       "    <g id=\"g3816\" transform=\"translate(58,-23)\">\n",
       "      <path d=\"m 347.14286,150.21933 a 29.285715,29.285715 0 1 1 -58.57143,0 29.285715,29.285715 0 1 1 58.57143,0 z\" id=\"path3818\" style=\"opacity:0.5;fill:none;stroke:#ff0000;stroke-width:1;stroke-linecap:round;stroke-miterlimit:4;stroke-opacity:1;stroke-dasharray:none;stroke-dashoffset:0\"/>\n",
       "      <path d=\"m 347.14286,150.21933 a 29.285715,29.285715 0 1 1 -58.57143,0 29.285715,29.285715 0 1 1 58.57143,0 z\" id=\"path3820\" style=\"fill:#ff0000;stroke:#000000;stroke-width:4.09999943;stroke-miterlimit:4;stroke-dasharray:none\" transform=\"matrix(0.12195124,0,0,0.12195124,279.09407,131.8999)\"/>\n",
       "    </g>\n",
       "    <g id=\"g3822\" transform=\"translate(81,-15)\">\n",
       "      <path d=\"m 347.14286,150.21933 a 29.285715,29.285715 0 1 1 -58.57143,0 29.285715,29.285715 0 1 1 58.57143,0 z\" id=\"path3824\" style=\"opacity:0.5;fill:none;stroke:#ff0000;stroke-width:1;stroke-linecap:round;stroke-miterlimit:4;stroke-opacity:1;stroke-dasharray:none;stroke-dashoffset:0\"/>\n",
       "      <path d=\"m 347.14286,150.21933 a 29.285715,29.285715 0 1 1 -58.57143,0 29.285715,29.285715 0 1 1 58.57143,0 z\" id=\"path3826\" style=\"fill:#ff0000;stroke:#000000;stroke-width:4.09999943;stroke-miterlimit:4;stroke-dasharray:none\" transform=\"matrix(0.12195124,0,0,0.12195124,279.09407,131.8999)\"/>\n",
       "    </g>\n",
       "    <path d=\"m 332.73408,142.69126 -11.39821,5.93332\" id=\"path3834\" style=\"fill:none;stroke:#000000;stroke-width:1px;stroke-linecap:butt;stroke-linejoin:miter;stroke-opacity:1;marker-end:url(#Arrow2Mend)\"/>\n",
       "    <path d=\"m 402.21633,135.35268 16.55082,-0.46841\" id=\"path4280\" style=\"fill:#b3b3b3;stroke:#000000;stroke-width:1px;stroke-linecap:butt;stroke-linejoin:miter;stroke-opacity:1;marker-end:url(#Arrow2Mend)\"/>\n",
       "    <path d=\"m 379.57605,128.17025 15.45784,5.46491\" id=\"path4282\" style=\"fill:none;stroke:#000000;stroke-width:1px;stroke-linecap:butt;stroke-linejoin:miter;stroke-opacity:1;marker-start:url(#Arrow2Mstart);marker-end:url(#Arrow2Mend)\"/>\n",
       "    <path d=\"m 357.71647,132.38602 13.7403,-4.3719\" id=\"path4470\" style=\"fill:none;stroke:#000000;stroke-width:1px;stroke-linecap:butt;stroke-linejoin:miter;stroke-opacity:1;marker-start:url(#Arrow2Mstart);marker-end:url(#Arrow2Mend)\"/>\n",
       "    <path d=\"m 358.02875,135.8211 15.61398,8.43157\" id=\"path4472\" style=\"fill:none;stroke:#000000;stroke-width:1px;stroke-linecap:butt;stroke-linejoin:miter;stroke-opacity:1;marker-start:url(#Arrow2Mstart);marker-end:url(#Arrow2Mend)\"/>\n",
       "    <path d=\"m 382.54271,145.03335 12.49118,-6.87014\" id=\"path4474\" style=\"fill:none;stroke:#000000;stroke-width:1px;stroke-linecap:butt;stroke-linejoin:miter;stroke-opacity:1;marker-start:url(#Arrow2Mstart);marker-end:url(#Arrow2Mend)\"/>\n",
       "    <path d=\"m 339.13582,140.19301 11.3982,-4.99646\" id=\"path4476\" style=\"fill:none;stroke:#000000;stroke-width:1px;stroke-linecap:butt;stroke-linejoin:miter;stroke-opacity:1;marker-start:url(#Arrow2Mstart);marker-end:url(#Arrow2Mend)\"/>\n",
       "    <path d=\"m 360.68312,154.87016 13.42802,-6.55786\" id=\"path4478\" style=\"fill:none;stroke:#000000;stroke-width:1px;stroke-linecap:butt;stroke-linejoin:miter;stroke-opacity:1;marker-start:url(#Arrow2Mstart);marker-end:url(#Arrow2Mend)\"/>\n",
       "    <path d=\"m 339.60424,143.00353 13.42802,9.83683\" id=\"path4480\" style=\"fill:none;stroke:#000000;stroke-width:1px;stroke-linecap:butt;stroke-linejoin:miter;stroke-opacity:1;marker-start:url(#Arrow2Mstart);marker-end:url(#Arrow2Mend)\"/>\n",
       "    <path d=\"m 354.74981,138.78775 1.71753,12.80349\" id=\"path4482\" style=\"fill:none;stroke:#000000;stroke-width:1px;stroke-linecap:butt;stroke-linejoin:miter;stroke-opacity:1;marker-start:url(#Arrow2Mstart);marker-end:url(#Arrow2Mend)\"/>\n",
       "    <path d=\"m 376.29711,130.98076 0.78069,10.77367\" id=\"path4484\" style=\"fill:none;stroke:#000000;stroke-width:1px;stroke-linecap:butt;stroke-linejoin:miter;stroke-opacity:1;marker-start:url(#Arrow2Mstart);marker-end:url(#Arrow2Mend)\"/>\n",
       "    <text id=\"text4514\" style=\"font-size:15px;font-style:normal;font-variant:normal;font-weight:normal;font-stretch:normal;text-align:center;line-height:125%;letter-spacing:0px;word-spacing:0px;text-anchor:middle;fill:#000000;fill-opacity:1;stroke:none;font-family:Times;-inkscape-font-specification:Times\" x=\"380.98129\" xml:space=\"preserve\" y=\"122.54922\"><tspan id=\"tspan4516\" x=\"380.98129\" y=\"122.54922\">A</tspan></text>\n",
       "    <text id=\"text4518\" style=\"font-size:15px;font-style:normal;font-variant:normal;font-weight:normal;font-stretch:normal;text-align:center;line-height:125%;letter-spacing:0px;word-spacing:0px;text-anchor:middle;fill:#000000;fill-opacity:1;stroke:none;font-family:Times;-inkscape-font-specification:Times\" x=\"423.76361\" xml:space=\"preserve\" y=\"129.88779\"><tspan id=\"tspan4520\" x=\"423.76361\" y=\"129.88779\">C</tspan></text>\n",
       "    <text id=\"text4522\" style=\"font-size:15px;font-style:normal;font-variant:normal;font-weight:normal;font-stretch:normal;text-align:center;line-height:125%;letter-spacing:0px;word-spacing:0px;text-anchor:middle;fill:#000000;fill-opacity:1;stroke:none;font-family:Times;-inkscape-font-specification:Times\" x=\"317.5885\" xml:space=\"preserve\" y=\"165.79996\"><tspan id=\"tspan4524\" x=\"317.5885\" y=\"165.79996\">B</tspan></text>\n",
       "    <text id=\"text4526\" style=\"font-size:15px;font-style:normal;font-variant:normal;font-weight:normal;font-stretch:normal;text-align:center;line-height:125%;letter-spacing:0px;word-spacing:0px;text-anchor:middle;fill:#000000;fill-opacity:1;stroke:none;font-family:Times;-inkscape-font-specification:Times\" x=\"332.57794\" xml:space=\"preserve\" y=\"89.603699\"><tspan id=\"tspan4528\" x=\"332.57794\" y=\"89.603699\">N</tspan></text>\n",
       "  </g>\n",
       "</svg>"
      ],
      "text/plain": [
       "<IPython.core.display.SVG object>"
      ]
     },
     "metadata": {},
     "output_type": "display_data"
    }
   ],
   "source": [
    "from IPython.display import SVG, display\n",
    "display(SVG(url='https://upload.wikimedia.org/wikipedia/commons/a/af/DBSCAN-Illustration.svg'))"
   ]
  },
  {
   "cell_type": "markdown",
   "metadata": {},
   "source": [
    "### Group/Breakout Activity 2 (7 minutes)\n",
    "* 1. go to the following link:https://www.naftaliharris.com/blog/visualizing-dbscan-clustering/\n",
    "* 2. play around with <code>epsilon</code> and <code>minPoints</code> and find right amount of clusters\n",
    "* 3. after playing around with simple examples, try it on DB Scan rings example. Can you cluster all of the different points correctly?"
   ]
  },
  {
   "cell_type": "markdown",
   "metadata": {},
   "source": [
    "### Additional Resources: sky is the limit. \n",
    "* Try new datasets from Kaggle/data repositories and apply different clustering techniques on them.\n",
    "* Analyze your results and learn from them."
   ]
  },
  {
   "cell_type": "code",
   "execution_count": null,
   "metadata": {},
   "outputs": [],
   "source": []
  }
 ],
 "metadata": {
  "kernelspec": {
   "display_name": "Python 3",
   "language": "python",
   "name": "python3"
  },
  "language_info": {
   "codemirror_mode": {
    "name": "ipython",
    "version": 3
   },
   "file_extension": ".py",
   "mimetype": "text/x-python",
   "name": "python",
   "nbconvert_exporter": "python",
   "pygments_lexer": "ipython3",
   "version": "3.7.10"
  }
 },
 "nbformat": 4,
 "nbformat_minor": 4
}
